{
 "cells": [
  {
   "cell_type": "code",
   "execution_count": 1,
   "id": "8ac18c8b-6b05-4c2b-8ee2-40162de78877",
   "metadata": {},
   "outputs": [],
   "source": [
    "import pandas as pd\n",
    "import matplotlib.pyplot as plt\n",
    "import seaborn as sns\n",
    "sns.set()"
   ]
  },
  {
   "cell_type": "code",
   "execution_count": 2,
   "id": "c7b78147-62fc-46fb-8524-bc1a8df64710",
   "metadata": {},
   "outputs": [],
   "source": [
    "df=pd.read_csv(\"test.csv\")"
   ]
  },
  {
   "cell_type": "code",
   "execution_count": 3,
   "id": "d693bac4-3f44-4442-8812-539c046898ad",
   "metadata": {},
   "outputs": [
    {
     "data": {
      "text/html": [
       "<div>\n",
       "<style scoped>\n",
       "    .dataframe tbody tr th:only-of-type {\n",
       "        vertical-align: middle;\n",
       "    }\n",
       "\n",
       "    .dataframe tbody tr th {\n",
       "        vertical-align: top;\n",
       "    }\n",
       "\n",
       "    .dataframe thead th {\n",
       "        text-align: right;\n",
       "    }\n",
       "</style>\n",
       "<table border=\"1\" class=\"dataframe\">\n",
       "  <thead>\n",
       "    <tr style=\"text-align: right;\">\n",
       "      <th></th>\n",
       "      <th>id</th>\n",
       "      <th>Name</th>\n",
       "      <th>Gender</th>\n",
       "      <th>Age</th>\n",
       "      <th>City</th>\n",
       "      <th>Working Professional or Student</th>\n",
       "      <th>Profession</th>\n",
       "      <th>Academic Pressure</th>\n",
       "      <th>Work Pressure</th>\n",
       "      <th>CGPA</th>\n",
       "      <th>Study Satisfaction</th>\n",
       "      <th>Job Satisfaction</th>\n",
       "      <th>Sleep Duration</th>\n",
       "      <th>Dietary Habits</th>\n",
       "      <th>Degree</th>\n",
       "      <th>Have you ever had suicidal thoughts ?</th>\n",
       "      <th>Work/Study Hours</th>\n",
       "      <th>Financial Stress</th>\n",
       "      <th>Family History of Mental Illness</th>\n",
       "    </tr>\n",
       "  </thead>\n",
       "  <tbody>\n",
       "    <tr>\n",
       "      <th>0</th>\n",
       "      <td>140700</td>\n",
       "      <td>Shivam</td>\n",
       "      <td>Male</td>\n",
       "      <td>53.0</td>\n",
       "      <td>Visakhapatnam</td>\n",
       "      <td>Working Professional</td>\n",
       "      <td>Judge</td>\n",
       "      <td>NaN</td>\n",
       "      <td>2.0</td>\n",
       "      <td>NaN</td>\n",
       "      <td>NaN</td>\n",
       "      <td>5.0</td>\n",
       "      <td>Less than 5 hours</td>\n",
       "      <td>Moderate</td>\n",
       "      <td>LLB</td>\n",
       "      <td>No</td>\n",
       "      <td>9.0</td>\n",
       "      <td>3.0</td>\n",
       "      <td>Yes</td>\n",
       "    </tr>\n",
       "    <tr>\n",
       "      <th>1</th>\n",
       "      <td>140701</td>\n",
       "      <td>Sanya</td>\n",
       "      <td>Female</td>\n",
       "      <td>58.0</td>\n",
       "      <td>Kolkata</td>\n",
       "      <td>Working Professional</td>\n",
       "      <td>Educational Consultant</td>\n",
       "      <td>NaN</td>\n",
       "      <td>2.0</td>\n",
       "      <td>NaN</td>\n",
       "      <td>NaN</td>\n",
       "      <td>4.0</td>\n",
       "      <td>Less than 5 hours</td>\n",
       "      <td>Moderate</td>\n",
       "      <td>B.Ed</td>\n",
       "      <td>No</td>\n",
       "      <td>6.0</td>\n",
       "      <td>4.0</td>\n",
       "      <td>No</td>\n",
       "    </tr>\n",
       "    <tr>\n",
       "      <th>2</th>\n",
       "      <td>140702</td>\n",
       "      <td>Yash</td>\n",
       "      <td>Male</td>\n",
       "      <td>53.0</td>\n",
       "      <td>Jaipur</td>\n",
       "      <td>Working Professional</td>\n",
       "      <td>Teacher</td>\n",
       "      <td>NaN</td>\n",
       "      <td>4.0</td>\n",
       "      <td>NaN</td>\n",
       "      <td>NaN</td>\n",
       "      <td>1.0</td>\n",
       "      <td>7-8 hours</td>\n",
       "      <td>Moderate</td>\n",
       "      <td>B.Arch</td>\n",
       "      <td>Yes</td>\n",
       "      <td>12.0</td>\n",
       "      <td>4.0</td>\n",
       "      <td>No</td>\n",
       "    </tr>\n",
       "    <tr>\n",
       "      <th>3</th>\n",
       "      <td>140703</td>\n",
       "      <td>Nalini</td>\n",
       "      <td>Female</td>\n",
       "      <td>23.0</td>\n",
       "      <td>Rajkot</td>\n",
       "      <td>Student</td>\n",
       "      <td>NaN</td>\n",
       "      <td>5.0</td>\n",
       "      <td>NaN</td>\n",
       "      <td>6.84</td>\n",
       "      <td>1.0</td>\n",
       "      <td>NaN</td>\n",
       "      <td>More than 8 hours</td>\n",
       "      <td>Moderate</td>\n",
       "      <td>BSc</td>\n",
       "      <td>Yes</td>\n",
       "      <td>10.0</td>\n",
       "      <td>4.0</td>\n",
       "      <td>No</td>\n",
       "    </tr>\n",
       "    <tr>\n",
       "      <th>4</th>\n",
       "      <td>140704</td>\n",
       "      <td>Shaurya</td>\n",
       "      <td>Male</td>\n",
       "      <td>47.0</td>\n",
       "      <td>Kalyan</td>\n",
       "      <td>Working Professional</td>\n",
       "      <td>Teacher</td>\n",
       "      <td>NaN</td>\n",
       "      <td>5.0</td>\n",
       "      <td>NaN</td>\n",
       "      <td>NaN</td>\n",
       "      <td>5.0</td>\n",
       "      <td>7-8 hours</td>\n",
       "      <td>Moderate</td>\n",
       "      <td>BCA</td>\n",
       "      <td>Yes</td>\n",
       "      <td>3.0</td>\n",
       "      <td>4.0</td>\n",
       "      <td>No</td>\n",
       "    </tr>\n",
       "  </tbody>\n",
       "</table>\n",
       "</div>"
      ],
      "text/plain": [
       "       id     Name  Gender   Age           City  \\\n",
       "0  140700   Shivam    Male  53.0  Visakhapatnam   \n",
       "1  140701    Sanya  Female  58.0        Kolkata   \n",
       "2  140702     Yash    Male  53.0         Jaipur   \n",
       "3  140703   Nalini  Female  23.0         Rajkot   \n",
       "4  140704  Shaurya    Male  47.0         Kalyan   \n",
       "\n",
       "  Working Professional or Student              Profession  Academic Pressure  \\\n",
       "0            Working Professional                   Judge                NaN   \n",
       "1            Working Professional  Educational Consultant                NaN   \n",
       "2            Working Professional                 Teacher                NaN   \n",
       "3                         Student                     NaN                5.0   \n",
       "4            Working Professional                 Teacher                NaN   \n",
       "\n",
       "   Work Pressure  CGPA  Study Satisfaction  Job Satisfaction  \\\n",
       "0            2.0   NaN                 NaN               5.0   \n",
       "1            2.0   NaN                 NaN               4.0   \n",
       "2            4.0   NaN                 NaN               1.0   \n",
       "3            NaN  6.84                 1.0               NaN   \n",
       "4            5.0   NaN                 NaN               5.0   \n",
       "\n",
       "      Sleep Duration Dietary Habits  Degree  \\\n",
       "0  Less than 5 hours       Moderate     LLB   \n",
       "1  Less than 5 hours       Moderate    B.Ed   \n",
       "2          7-8 hours       Moderate  B.Arch   \n",
       "3  More than 8 hours       Moderate     BSc   \n",
       "4          7-8 hours       Moderate     BCA   \n",
       "\n",
       "  Have you ever had suicidal thoughts ?  Work/Study Hours  Financial Stress  \\\n",
       "0                                    No               9.0               3.0   \n",
       "1                                    No               6.0               4.0   \n",
       "2                                   Yes              12.0               4.0   \n",
       "3                                   Yes              10.0               4.0   \n",
       "4                                   Yes               3.0               4.0   \n",
       "\n",
       "  Family History of Mental Illness  \n",
       "0                              Yes  \n",
       "1                               No  \n",
       "2                               No  \n",
       "3                               No  \n",
       "4                               No  "
      ]
     },
     "execution_count": 3,
     "metadata": {},
     "output_type": "execute_result"
    }
   ],
   "source": [
    "df.head()"
   ]
  },
  {
   "cell_type": "code",
   "execution_count": 4,
   "id": "482e2f5a-d603-44c9-8155-5bacad883e80",
   "metadata": {},
   "outputs": [
    {
     "name": "stdout",
     "output_type": "stream",
     "text": [
      "<class 'pandas.core.frame.DataFrame'>\n",
      "RangeIndex: 93800 entries, 0 to 93799\n",
      "Data columns (total 19 columns):\n",
      " #   Column                                 Non-Null Count  Dtype  \n",
      "---  ------                                 --------------  -----  \n",
      " 0   id                                     93800 non-null  int64  \n",
      " 1   Name                                   93800 non-null  object \n",
      " 2   Gender                                 93800 non-null  object \n",
      " 3   Age                                    93800 non-null  float64\n",
      " 4   City                                   93800 non-null  object \n",
      " 5   Working Professional or Student        93800 non-null  object \n",
      " 6   Profession                             69168 non-null  object \n",
      " 7   Academic Pressure                      18767 non-null  float64\n",
      " 8   Work Pressure                          75022 non-null  float64\n",
      " 9   CGPA                                   18766 non-null  float64\n",
      " 10  Study Satisfaction                     18767 non-null  float64\n",
      " 11  Job Satisfaction                       75026 non-null  float64\n",
      " 12  Sleep Duration                         93800 non-null  object \n",
      " 13  Dietary Habits                         93795 non-null  object \n",
      " 14  Degree                                 93798 non-null  object \n",
      " 15  Have you ever had suicidal thoughts ?  93800 non-null  object \n",
      " 16  Work/Study Hours                       93800 non-null  float64\n",
      " 17  Financial Stress                       93800 non-null  float64\n",
      " 18  Family History of Mental Illness       93800 non-null  object \n",
      "dtypes: float64(8), int64(1), object(10)\n",
      "memory usage: 13.6+ MB\n"
     ]
    }
   ],
   "source": [
    "df.info()"
   ]
  },
  {
   "cell_type": "code",
   "execution_count": 5,
   "id": "f6d0f472-a725-44fe-97a5-b2b055769183",
   "metadata": {},
   "outputs": [
    {
     "data": {
      "text/plain": [
       "id                                           0\n",
       "Name                                         0\n",
       "Gender                                       0\n",
       "Age                                          0\n",
       "City                                         0\n",
       "Working Professional or Student              0\n",
       "Profession                               24632\n",
       "Academic Pressure                        75033\n",
       "Work Pressure                            18778\n",
       "CGPA                                     75034\n",
       "Study Satisfaction                       75033\n",
       "Job Satisfaction                         18774\n",
       "Sleep Duration                               0\n",
       "Dietary Habits                               5\n",
       "Degree                                       2\n",
       "Have you ever had suicidal thoughts ?        0\n",
       "Work/Study Hours                             0\n",
       "Financial Stress                             0\n",
       "Family History of Mental Illness             0\n",
       "dtype: int64"
      ]
     },
     "execution_count": 5,
     "metadata": {},
     "output_type": "execute_result"
    }
   ],
   "source": [
    "df.isnull().sum()"
   ]
  },
  {
   "cell_type": "code",
   "execution_count": 6,
   "id": "5d721ba9-8689-4c9a-b374-0cc0bfa4f4f0",
   "metadata": {},
   "outputs": [
    {
     "data": {
      "text/plain": [
       "Index(['id', 'Name', 'Gender', 'Age', 'City',\n",
       "       'Working Professional or Student', 'Profession', 'Academic Pressure',\n",
       "       'Work Pressure', 'CGPA', 'Study Satisfaction', 'Job Satisfaction',\n",
       "       'Sleep Duration', 'Dietary Habits', 'Degree',\n",
       "       'Have you ever had suicidal thoughts ?', 'Work/Study Hours',\n",
       "       'Financial Stress', 'Family History of Mental Illness'],\n",
       "      dtype='object')"
      ]
     },
     "execution_count": 6,
     "metadata": {},
     "output_type": "execute_result"
    }
   ],
   "source": [
    "df.columns"
   ]
  },
  {
   "cell_type": "code",
   "execution_count": 7,
   "id": "d26568fe-e29e-4440-9a7e-39c2b3fcd525",
   "metadata": {},
   "outputs": [],
   "source": [
    "# For students only:\n",
    "student_df = df[df['Working Professional or Student'] == 'Student'].copy()\n",
    "# For working professionals:\n",
    "professional_df = df[df['Working Professional or Student'] == 'Working Professional'].copy()"
   ]
  },
  {
   "cell_type": "code",
   "execution_count": 8,
   "id": "24ae8421-471a-4ed4-91f5-a050bbcdc12a",
   "metadata": {},
   "outputs": [
    {
     "data": {
      "text/html": [
       "<div>\n",
       "<style scoped>\n",
       "    .dataframe tbody tr th:only-of-type {\n",
       "        vertical-align: middle;\n",
       "    }\n",
       "\n",
       "    .dataframe tbody tr th {\n",
       "        vertical-align: top;\n",
       "    }\n",
       "\n",
       "    .dataframe thead th {\n",
       "        text-align: right;\n",
       "    }\n",
       "</style>\n",
       "<table border=\"1\" class=\"dataframe\">\n",
       "  <thead>\n",
       "    <tr style=\"text-align: right;\">\n",
       "      <th></th>\n",
       "      <th>id</th>\n",
       "      <th>Name</th>\n",
       "      <th>Gender</th>\n",
       "      <th>Age</th>\n",
       "      <th>City</th>\n",
       "      <th>Working Professional or Student</th>\n",
       "      <th>Profession</th>\n",
       "      <th>Academic Pressure</th>\n",
       "      <th>Work Pressure</th>\n",
       "      <th>CGPA</th>\n",
       "      <th>Study Satisfaction</th>\n",
       "      <th>Job Satisfaction</th>\n",
       "      <th>Sleep Duration</th>\n",
       "      <th>Dietary Habits</th>\n",
       "      <th>Degree</th>\n",
       "      <th>Have you ever had suicidal thoughts ?</th>\n",
       "      <th>Work/Study Hours</th>\n",
       "      <th>Financial Stress</th>\n",
       "      <th>Family History of Mental Illness</th>\n",
       "    </tr>\n",
       "  </thead>\n",
       "  <tbody>\n",
       "    <tr>\n",
       "      <th>3</th>\n",
       "      <td>140703</td>\n",
       "      <td>Nalini</td>\n",
       "      <td>Female</td>\n",
       "      <td>23.0</td>\n",
       "      <td>Rajkot</td>\n",
       "      <td>Student</td>\n",
       "      <td>NaN</td>\n",
       "      <td>5.0</td>\n",
       "      <td>NaN</td>\n",
       "      <td>6.84</td>\n",
       "      <td>1.0</td>\n",
       "      <td>NaN</td>\n",
       "      <td>More than 8 hours</td>\n",
       "      <td>Moderate</td>\n",
       "      <td>BSc</td>\n",
       "      <td>Yes</td>\n",
       "      <td>10.0</td>\n",
       "      <td>4.0</td>\n",
       "      <td>No</td>\n",
       "    </tr>\n",
       "    <tr>\n",
       "      <th>8</th>\n",
       "      <td>140708</td>\n",
       "      <td>Navya</td>\n",
       "      <td>Female</td>\n",
       "      <td>21.0</td>\n",
       "      <td>Surat</td>\n",
       "      <td>Student</td>\n",
       "      <td>NaN</td>\n",
       "      <td>1.0</td>\n",
       "      <td>NaN</td>\n",
       "      <td>7.39</td>\n",
       "      <td>3.0</td>\n",
       "      <td>NaN</td>\n",
       "      <td>Less than 5 hours</td>\n",
       "      <td>Healthy</td>\n",
       "      <td>BBA</td>\n",
       "      <td>No</td>\n",
       "      <td>8.0</td>\n",
       "      <td>1.0</td>\n",
       "      <td>Yes</td>\n",
       "    </tr>\n",
       "    <tr>\n",
       "      <th>19</th>\n",
       "      <td>140719</td>\n",
       "      <td>Kiran</td>\n",
       "      <td>Male</td>\n",
       "      <td>28.0</td>\n",
       "      <td>Lucknow</td>\n",
       "      <td>Student</td>\n",
       "      <td>NaN</td>\n",
       "      <td>5.0</td>\n",
       "      <td>NaN</td>\n",
       "      <td>6.03</td>\n",
       "      <td>3.0</td>\n",
       "      <td>NaN</td>\n",
       "      <td>7-8 hours</td>\n",
       "      <td>Moderate</td>\n",
       "      <td>MA</td>\n",
       "      <td>No</td>\n",
       "      <td>11.0</td>\n",
       "      <td>3.0</td>\n",
       "      <td>Yes</td>\n",
       "    </tr>\n",
       "    <tr>\n",
       "      <th>20</th>\n",
       "      <td>140720</td>\n",
       "      <td>Rashi</td>\n",
       "      <td>Female</td>\n",
       "      <td>26.0</td>\n",
       "      <td>Ghaziabad</td>\n",
       "      <td>Student</td>\n",
       "      <td>NaN</td>\n",
       "      <td>3.0</td>\n",
       "      <td>NaN</td>\n",
       "      <td>8.63</td>\n",
       "      <td>5.0</td>\n",
       "      <td>NaN</td>\n",
       "      <td>More than 8 hours</td>\n",
       "      <td>Moderate</td>\n",
       "      <td>BBA</td>\n",
       "      <td>Yes</td>\n",
       "      <td>10.0</td>\n",
       "      <td>4.0</td>\n",
       "      <td>Yes</td>\n",
       "    </tr>\n",
       "    <tr>\n",
       "      <th>21</th>\n",
       "      <td>140721</td>\n",
       "      <td>Manan</td>\n",
       "      <td>Male</td>\n",
       "      <td>32.0</td>\n",
       "      <td>Visakhapatnam</td>\n",
       "      <td>Student</td>\n",
       "      <td>NaN</td>\n",
       "      <td>3.0</td>\n",
       "      <td>NaN</td>\n",
       "      <td>8.61</td>\n",
       "      <td>1.0</td>\n",
       "      <td>NaN</td>\n",
       "      <td>Less than 5 hours</td>\n",
       "      <td>Moderate</td>\n",
       "      <td>M.Ed</td>\n",
       "      <td>Yes</td>\n",
       "      <td>11.0</td>\n",
       "      <td>5.0</td>\n",
       "      <td>No</td>\n",
       "    </tr>\n",
       "  </tbody>\n",
       "</table>\n",
       "</div>"
      ],
      "text/plain": [
       "        id    Name  Gender   Age           City  \\\n",
       "3   140703  Nalini  Female  23.0         Rajkot   \n",
       "8   140708   Navya  Female  21.0          Surat   \n",
       "19  140719   Kiran    Male  28.0        Lucknow   \n",
       "20  140720   Rashi  Female  26.0      Ghaziabad   \n",
       "21  140721   Manan    Male  32.0  Visakhapatnam   \n",
       "\n",
       "   Working Professional or Student Profession  Academic Pressure  \\\n",
       "3                          Student        NaN                5.0   \n",
       "8                          Student        NaN                1.0   \n",
       "19                         Student        NaN                5.0   \n",
       "20                         Student        NaN                3.0   \n",
       "21                         Student        NaN                3.0   \n",
       "\n",
       "    Work Pressure  CGPA  Study Satisfaction  Job Satisfaction  \\\n",
       "3             NaN  6.84                 1.0               NaN   \n",
       "8             NaN  7.39                 3.0               NaN   \n",
       "19            NaN  6.03                 3.0               NaN   \n",
       "20            NaN  8.63                 5.0               NaN   \n",
       "21            NaN  8.61                 1.0               NaN   \n",
       "\n",
       "       Sleep Duration Dietary Habits Degree  \\\n",
       "3   More than 8 hours       Moderate    BSc   \n",
       "8   Less than 5 hours        Healthy    BBA   \n",
       "19          7-8 hours       Moderate     MA   \n",
       "20  More than 8 hours       Moderate    BBA   \n",
       "21  Less than 5 hours       Moderate   M.Ed   \n",
       "\n",
       "   Have you ever had suicidal thoughts ?  Work/Study Hours  Financial Stress  \\\n",
       "3                                    Yes              10.0               4.0   \n",
       "8                                     No               8.0               1.0   \n",
       "19                                    No              11.0               3.0   \n",
       "20                                   Yes              10.0               4.0   \n",
       "21                                   Yes              11.0               5.0   \n",
       "\n",
       "   Family History of Mental Illness  \n",
       "3                                No  \n",
       "8                               Yes  \n",
       "19                              Yes  \n",
       "20                              Yes  \n",
       "21                               No  "
      ]
     },
     "execution_count": 8,
     "metadata": {},
     "output_type": "execute_result"
    }
   ],
   "source": [
    "student_df.head()"
   ]
  },
  {
   "cell_type": "code",
   "execution_count": 9,
   "id": "eb6e67cc-f4f7-4aef-804a-fd7f4c755afb",
   "metadata": {},
   "outputs": [
    {
     "data": {
      "text/html": [
       "<div>\n",
       "<style scoped>\n",
       "    .dataframe tbody tr th:only-of-type {\n",
       "        vertical-align: middle;\n",
       "    }\n",
       "\n",
       "    .dataframe tbody tr th {\n",
       "        vertical-align: top;\n",
       "    }\n",
       "\n",
       "    .dataframe thead th {\n",
       "        text-align: right;\n",
       "    }\n",
       "</style>\n",
       "<table border=\"1\" class=\"dataframe\">\n",
       "  <thead>\n",
       "    <tr style=\"text-align: right;\">\n",
       "      <th></th>\n",
       "      <th>id</th>\n",
       "      <th>Name</th>\n",
       "      <th>Gender</th>\n",
       "      <th>Age</th>\n",
       "      <th>City</th>\n",
       "      <th>Working Professional or Student</th>\n",
       "      <th>Profession</th>\n",
       "      <th>Academic Pressure</th>\n",
       "      <th>Work Pressure</th>\n",
       "      <th>CGPA</th>\n",
       "      <th>Study Satisfaction</th>\n",
       "      <th>Job Satisfaction</th>\n",
       "      <th>Sleep Duration</th>\n",
       "      <th>Dietary Habits</th>\n",
       "      <th>Degree</th>\n",
       "      <th>Have you ever had suicidal thoughts ?</th>\n",
       "      <th>Work/Study Hours</th>\n",
       "      <th>Financial Stress</th>\n",
       "      <th>Family History of Mental Illness</th>\n",
       "    </tr>\n",
       "  </thead>\n",
       "  <tbody>\n",
       "    <tr>\n",
       "      <th>0</th>\n",
       "      <td>140700</td>\n",
       "      <td>Shivam</td>\n",
       "      <td>Male</td>\n",
       "      <td>53.0</td>\n",
       "      <td>Visakhapatnam</td>\n",
       "      <td>Working Professional</td>\n",
       "      <td>Judge</td>\n",
       "      <td>NaN</td>\n",
       "      <td>2.0</td>\n",
       "      <td>NaN</td>\n",
       "      <td>NaN</td>\n",
       "      <td>5.0</td>\n",
       "      <td>Less than 5 hours</td>\n",
       "      <td>Moderate</td>\n",
       "      <td>LLB</td>\n",
       "      <td>No</td>\n",
       "      <td>9.0</td>\n",
       "      <td>3.0</td>\n",
       "      <td>Yes</td>\n",
       "    </tr>\n",
       "    <tr>\n",
       "      <th>1</th>\n",
       "      <td>140701</td>\n",
       "      <td>Sanya</td>\n",
       "      <td>Female</td>\n",
       "      <td>58.0</td>\n",
       "      <td>Kolkata</td>\n",
       "      <td>Working Professional</td>\n",
       "      <td>Educational Consultant</td>\n",
       "      <td>NaN</td>\n",
       "      <td>2.0</td>\n",
       "      <td>NaN</td>\n",
       "      <td>NaN</td>\n",
       "      <td>4.0</td>\n",
       "      <td>Less than 5 hours</td>\n",
       "      <td>Moderate</td>\n",
       "      <td>B.Ed</td>\n",
       "      <td>No</td>\n",
       "      <td>6.0</td>\n",
       "      <td>4.0</td>\n",
       "      <td>No</td>\n",
       "    </tr>\n",
       "    <tr>\n",
       "      <th>2</th>\n",
       "      <td>140702</td>\n",
       "      <td>Yash</td>\n",
       "      <td>Male</td>\n",
       "      <td>53.0</td>\n",
       "      <td>Jaipur</td>\n",
       "      <td>Working Professional</td>\n",
       "      <td>Teacher</td>\n",
       "      <td>NaN</td>\n",
       "      <td>4.0</td>\n",
       "      <td>NaN</td>\n",
       "      <td>NaN</td>\n",
       "      <td>1.0</td>\n",
       "      <td>7-8 hours</td>\n",
       "      <td>Moderate</td>\n",
       "      <td>B.Arch</td>\n",
       "      <td>Yes</td>\n",
       "      <td>12.0</td>\n",
       "      <td>4.0</td>\n",
       "      <td>No</td>\n",
       "    </tr>\n",
       "    <tr>\n",
       "      <th>4</th>\n",
       "      <td>140704</td>\n",
       "      <td>Shaurya</td>\n",
       "      <td>Male</td>\n",
       "      <td>47.0</td>\n",
       "      <td>Kalyan</td>\n",
       "      <td>Working Professional</td>\n",
       "      <td>Teacher</td>\n",
       "      <td>NaN</td>\n",
       "      <td>5.0</td>\n",
       "      <td>NaN</td>\n",
       "      <td>NaN</td>\n",
       "      <td>5.0</td>\n",
       "      <td>7-8 hours</td>\n",
       "      <td>Moderate</td>\n",
       "      <td>BCA</td>\n",
       "      <td>Yes</td>\n",
       "      <td>3.0</td>\n",
       "      <td>4.0</td>\n",
       "      <td>No</td>\n",
       "    </tr>\n",
       "    <tr>\n",
       "      <th>5</th>\n",
       "      <td>140705</td>\n",
       "      <td>Kartik</td>\n",
       "      <td>Male</td>\n",
       "      <td>29.0</td>\n",
       "      <td>Mumbai</td>\n",
       "      <td>Working Professional</td>\n",
       "      <td>Customer Support</td>\n",
       "      <td>NaN</td>\n",
       "      <td>2.0</td>\n",
       "      <td>NaN</td>\n",
       "      <td>NaN</td>\n",
       "      <td>3.0</td>\n",
       "      <td>More than 8 hours</td>\n",
       "      <td>Moderate</td>\n",
       "      <td>B.Com</td>\n",
       "      <td>No</td>\n",
       "      <td>3.0</td>\n",
       "      <td>2.0</td>\n",
       "      <td>Yes</td>\n",
       "    </tr>\n",
       "  </tbody>\n",
       "</table>\n",
       "</div>"
      ],
      "text/plain": [
       "       id     Name  Gender   Age           City  \\\n",
       "0  140700   Shivam    Male  53.0  Visakhapatnam   \n",
       "1  140701    Sanya  Female  58.0        Kolkata   \n",
       "2  140702     Yash    Male  53.0         Jaipur   \n",
       "4  140704  Shaurya    Male  47.0         Kalyan   \n",
       "5  140705   Kartik    Male  29.0         Mumbai   \n",
       "\n",
       "  Working Professional or Student              Profession  Academic Pressure  \\\n",
       "0            Working Professional                   Judge                NaN   \n",
       "1            Working Professional  Educational Consultant                NaN   \n",
       "2            Working Professional                 Teacher                NaN   \n",
       "4            Working Professional                 Teacher                NaN   \n",
       "5            Working Professional        Customer Support                NaN   \n",
       "\n",
       "   Work Pressure  CGPA  Study Satisfaction  Job Satisfaction  \\\n",
       "0            2.0   NaN                 NaN               5.0   \n",
       "1            2.0   NaN                 NaN               4.0   \n",
       "2            4.0   NaN                 NaN               1.0   \n",
       "4            5.0   NaN                 NaN               5.0   \n",
       "5            2.0   NaN                 NaN               3.0   \n",
       "\n",
       "      Sleep Duration Dietary Habits  Degree  \\\n",
       "0  Less than 5 hours       Moderate     LLB   \n",
       "1  Less than 5 hours       Moderate    B.Ed   \n",
       "2          7-8 hours       Moderate  B.Arch   \n",
       "4          7-8 hours       Moderate     BCA   \n",
       "5  More than 8 hours       Moderate   B.Com   \n",
       "\n",
       "  Have you ever had suicidal thoughts ?  Work/Study Hours  Financial Stress  \\\n",
       "0                                    No               9.0               3.0   \n",
       "1                                    No               6.0               4.0   \n",
       "2                                   Yes              12.0               4.0   \n",
       "4                                   Yes               3.0               4.0   \n",
       "5                                    No               3.0               2.0   \n",
       "\n",
       "  Family History of Mental Illness  \n",
       "0                              Yes  \n",
       "1                               No  \n",
       "2                               No  \n",
       "4                               No  \n",
       "5                              Yes  "
      ]
     },
     "execution_count": 9,
     "metadata": {},
     "output_type": "execute_result"
    }
   ],
   "source": [
    "professional_df.head()"
   ]
  },
  {
   "cell_type": "code",
   "execution_count": 10,
   "id": "516cf4bb-253f-4819-8256-56b34d74df18",
   "metadata": {},
   "outputs": [],
   "source": [
    "student_df['CGPA'] = student_df['CGPA'].fillna(student_df['CGPA'].mean())"
   ]
  },
  {
   "cell_type": "code",
   "execution_count": 11,
   "id": "af9caec9-5b78-457b-bb02-668da6384f03",
   "metadata": {},
   "outputs": [
    {
     "data": {
      "text/html": [
       "<div>\n",
       "<style scoped>\n",
       "    .dataframe tbody tr th:only-of-type {\n",
       "        vertical-align: middle;\n",
       "    }\n",
       "\n",
       "    .dataframe tbody tr th {\n",
       "        vertical-align: top;\n",
       "    }\n",
       "\n",
       "    .dataframe thead th {\n",
       "        text-align: right;\n",
       "    }\n",
       "</style>\n",
       "<table border=\"1\" class=\"dataframe\">\n",
       "  <thead>\n",
       "    <tr style=\"text-align: right;\">\n",
       "      <th></th>\n",
       "      <th>id</th>\n",
       "      <th>Name</th>\n",
       "      <th>Gender</th>\n",
       "      <th>Age</th>\n",
       "      <th>City</th>\n",
       "      <th>Working Professional or Student</th>\n",
       "      <th>Profession</th>\n",
       "      <th>Academic Pressure</th>\n",
       "      <th>Work Pressure</th>\n",
       "      <th>CGPA</th>\n",
       "      <th>Study Satisfaction</th>\n",
       "      <th>Job Satisfaction</th>\n",
       "      <th>Sleep Duration</th>\n",
       "      <th>Dietary Habits</th>\n",
       "      <th>Degree</th>\n",
       "      <th>Have you ever had suicidal thoughts ?</th>\n",
       "      <th>Work/Study Hours</th>\n",
       "      <th>Financial Stress</th>\n",
       "      <th>Family History of Mental Illness</th>\n",
       "    </tr>\n",
       "  </thead>\n",
       "  <tbody>\n",
       "    <tr>\n",
       "      <th>3</th>\n",
       "      <td>140703</td>\n",
       "      <td>Nalini</td>\n",
       "      <td>Female</td>\n",
       "      <td>23.0</td>\n",
       "      <td>Rajkot</td>\n",
       "      <td>Student</td>\n",
       "      <td>NaN</td>\n",
       "      <td>5.0</td>\n",
       "      <td>NaN</td>\n",
       "      <td>6.84</td>\n",
       "      <td>1.0</td>\n",
       "      <td>NaN</td>\n",
       "      <td>More than 8 hours</td>\n",
       "      <td>Moderate</td>\n",
       "      <td>BSc</td>\n",
       "      <td>Yes</td>\n",
       "      <td>10.0</td>\n",
       "      <td>4.0</td>\n",
       "      <td>No</td>\n",
       "    </tr>\n",
       "    <tr>\n",
       "      <th>8</th>\n",
       "      <td>140708</td>\n",
       "      <td>Navya</td>\n",
       "      <td>Female</td>\n",
       "      <td>21.0</td>\n",
       "      <td>Surat</td>\n",
       "      <td>Student</td>\n",
       "      <td>NaN</td>\n",
       "      <td>1.0</td>\n",
       "      <td>NaN</td>\n",
       "      <td>7.39</td>\n",
       "      <td>3.0</td>\n",
       "      <td>NaN</td>\n",
       "      <td>Less than 5 hours</td>\n",
       "      <td>Healthy</td>\n",
       "      <td>BBA</td>\n",
       "      <td>No</td>\n",
       "      <td>8.0</td>\n",
       "      <td>1.0</td>\n",
       "      <td>Yes</td>\n",
       "    </tr>\n",
       "    <tr>\n",
       "      <th>19</th>\n",
       "      <td>140719</td>\n",
       "      <td>Kiran</td>\n",
       "      <td>Male</td>\n",
       "      <td>28.0</td>\n",
       "      <td>Lucknow</td>\n",
       "      <td>Student</td>\n",
       "      <td>NaN</td>\n",
       "      <td>5.0</td>\n",
       "      <td>NaN</td>\n",
       "      <td>6.03</td>\n",
       "      <td>3.0</td>\n",
       "      <td>NaN</td>\n",
       "      <td>7-8 hours</td>\n",
       "      <td>Moderate</td>\n",
       "      <td>MA</td>\n",
       "      <td>No</td>\n",
       "      <td>11.0</td>\n",
       "      <td>3.0</td>\n",
       "      <td>Yes</td>\n",
       "    </tr>\n",
       "    <tr>\n",
       "      <th>20</th>\n",
       "      <td>140720</td>\n",
       "      <td>Rashi</td>\n",
       "      <td>Female</td>\n",
       "      <td>26.0</td>\n",
       "      <td>Ghaziabad</td>\n",
       "      <td>Student</td>\n",
       "      <td>NaN</td>\n",
       "      <td>3.0</td>\n",
       "      <td>NaN</td>\n",
       "      <td>8.63</td>\n",
       "      <td>5.0</td>\n",
       "      <td>NaN</td>\n",
       "      <td>More than 8 hours</td>\n",
       "      <td>Moderate</td>\n",
       "      <td>BBA</td>\n",
       "      <td>Yes</td>\n",
       "      <td>10.0</td>\n",
       "      <td>4.0</td>\n",
       "      <td>Yes</td>\n",
       "    </tr>\n",
       "    <tr>\n",
       "      <th>21</th>\n",
       "      <td>140721</td>\n",
       "      <td>Manan</td>\n",
       "      <td>Male</td>\n",
       "      <td>32.0</td>\n",
       "      <td>Visakhapatnam</td>\n",
       "      <td>Student</td>\n",
       "      <td>NaN</td>\n",
       "      <td>3.0</td>\n",
       "      <td>NaN</td>\n",
       "      <td>8.61</td>\n",
       "      <td>1.0</td>\n",
       "      <td>NaN</td>\n",
       "      <td>Less than 5 hours</td>\n",
       "      <td>Moderate</td>\n",
       "      <td>M.Ed</td>\n",
       "      <td>Yes</td>\n",
       "      <td>11.0</td>\n",
       "      <td>5.0</td>\n",
       "      <td>No</td>\n",
       "    </tr>\n",
       "  </tbody>\n",
       "</table>\n",
       "</div>"
      ],
      "text/plain": [
       "        id    Name  Gender   Age           City  \\\n",
       "3   140703  Nalini  Female  23.0         Rajkot   \n",
       "8   140708   Navya  Female  21.0          Surat   \n",
       "19  140719   Kiran    Male  28.0        Lucknow   \n",
       "20  140720   Rashi  Female  26.0      Ghaziabad   \n",
       "21  140721   Manan    Male  32.0  Visakhapatnam   \n",
       "\n",
       "   Working Professional or Student Profession  Academic Pressure  \\\n",
       "3                          Student        NaN                5.0   \n",
       "8                          Student        NaN                1.0   \n",
       "19                         Student        NaN                5.0   \n",
       "20                         Student        NaN                3.0   \n",
       "21                         Student        NaN                3.0   \n",
       "\n",
       "    Work Pressure  CGPA  Study Satisfaction  Job Satisfaction  \\\n",
       "3             NaN  6.84                 1.0               NaN   \n",
       "8             NaN  7.39                 3.0               NaN   \n",
       "19            NaN  6.03                 3.0               NaN   \n",
       "20            NaN  8.63                 5.0               NaN   \n",
       "21            NaN  8.61                 1.0               NaN   \n",
       "\n",
       "       Sleep Duration Dietary Habits Degree  \\\n",
       "3   More than 8 hours       Moderate    BSc   \n",
       "8   Less than 5 hours        Healthy    BBA   \n",
       "19          7-8 hours       Moderate     MA   \n",
       "20  More than 8 hours       Moderate    BBA   \n",
       "21  Less than 5 hours       Moderate   M.Ed   \n",
       "\n",
       "   Have you ever had suicidal thoughts ?  Work/Study Hours  Financial Stress  \\\n",
       "3                                    Yes              10.0               4.0   \n",
       "8                                     No               8.0               1.0   \n",
       "19                                    No              11.0               3.0   \n",
       "20                                   Yes              10.0               4.0   \n",
       "21                                   Yes              11.0               5.0   \n",
       "\n",
       "   Family History of Mental Illness  \n",
       "3                                No  \n",
       "8                               Yes  \n",
       "19                              Yes  \n",
       "20                              Yes  \n",
       "21                               No  "
      ]
     },
     "execution_count": 11,
     "metadata": {},
     "output_type": "execute_result"
    }
   ],
   "source": [
    "student_df.head()"
   ]
  },
  {
   "cell_type": "code",
   "execution_count": 12,
   "id": "26483723-bc41-4ae0-923a-51b0c4018ed8",
   "metadata": {},
   "outputs": [
    {
     "data": {
      "text/plain": [
       "id                                           0\n",
       "Name                                         0\n",
       "Gender                                       0\n",
       "Age                                          0\n",
       "City                                         0\n",
       "Working Professional or Student              0\n",
       "Profession                               18746\n",
       "Academic Pressure                            7\n",
       "Work Pressure                            18768\n",
       "CGPA                                         0\n",
       "Study Satisfaction                           8\n",
       "Job Satisfaction                         18765\n",
       "Sleep Duration                               0\n",
       "Dietary Habits                               3\n",
       "Degree                                       1\n",
       "Have you ever had suicidal thoughts ?        0\n",
       "Work/Study Hours                             0\n",
       "Financial Stress                             0\n",
       "Family History of Mental Illness             0\n",
       "dtype: int64"
      ]
     },
     "execution_count": 12,
     "metadata": {},
     "output_type": "execute_result"
    }
   ],
   "source": [
    "student_df.isnull().sum()"
   ]
  },
  {
   "cell_type": "code",
   "execution_count": 13,
   "id": "57ad0006-d91b-4993-85e2-4d938c953729",
   "metadata": {},
   "outputs": [],
   "source": [
    "stud_df=student_df.copy()"
   ]
  },
  {
   "cell_type": "code",
   "execution_count": 14,
   "id": "fa4c7bc6-6e03-4ffd-a4e9-12f7f83f6d60",
   "metadata": {},
   "outputs": [
    {
     "data": {
      "text/html": [
       "<div>\n",
       "<style scoped>\n",
       "    .dataframe tbody tr th:only-of-type {\n",
       "        vertical-align: middle;\n",
       "    }\n",
       "\n",
       "    .dataframe tbody tr th {\n",
       "        vertical-align: top;\n",
       "    }\n",
       "\n",
       "    .dataframe thead th {\n",
       "        text-align: right;\n",
       "    }\n",
       "</style>\n",
       "<table border=\"1\" class=\"dataframe\">\n",
       "  <thead>\n",
       "    <tr style=\"text-align: right;\">\n",
       "      <th></th>\n",
       "      <th>id</th>\n",
       "      <th>Name</th>\n",
       "      <th>Gender</th>\n",
       "      <th>Age</th>\n",
       "      <th>City</th>\n",
       "      <th>Working Professional or Student</th>\n",
       "      <th>Profession</th>\n",
       "      <th>Academic Pressure</th>\n",
       "      <th>Work Pressure</th>\n",
       "      <th>CGPA</th>\n",
       "      <th>Study Satisfaction</th>\n",
       "      <th>Job Satisfaction</th>\n",
       "      <th>Sleep Duration</th>\n",
       "      <th>Dietary Habits</th>\n",
       "      <th>Degree</th>\n",
       "      <th>Have you ever had suicidal thoughts ?</th>\n",
       "      <th>Work/Study Hours</th>\n",
       "      <th>Financial Stress</th>\n",
       "      <th>Family History of Mental Illness</th>\n",
       "    </tr>\n",
       "  </thead>\n",
       "  <tbody>\n",
       "    <tr>\n",
       "      <th>3</th>\n",
       "      <td>140703</td>\n",
       "      <td>Nalini</td>\n",
       "      <td>Female</td>\n",
       "      <td>23.0</td>\n",
       "      <td>Rajkot</td>\n",
       "      <td>Student</td>\n",
       "      <td>NaN</td>\n",
       "      <td>5.0</td>\n",
       "      <td>NaN</td>\n",
       "      <td>6.84</td>\n",
       "      <td>1.0</td>\n",
       "      <td>NaN</td>\n",
       "      <td>More than 8 hours</td>\n",
       "      <td>Moderate</td>\n",
       "      <td>BSc</td>\n",
       "      <td>Yes</td>\n",
       "      <td>10.0</td>\n",
       "      <td>4.0</td>\n",
       "      <td>No</td>\n",
       "    </tr>\n",
       "    <tr>\n",
       "      <th>8</th>\n",
       "      <td>140708</td>\n",
       "      <td>Navya</td>\n",
       "      <td>Female</td>\n",
       "      <td>21.0</td>\n",
       "      <td>Surat</td>\n",
       "      <td>Student</td>\n",
       "      <td>NaN</td>\n",
       "      <td>1.0</td>\n",
       "      <td>NaN</td>\n",
       "      <td>7.39</td>\n",
       "      <td>3.0</td>\n",
       "      <td>NaN</td>\n",
       "      <td>Less than 5 hours</td>\n",
       "      <td>Healthy</td>\n",
       "      <td>BBA</td>\n",
       "      <td>No</td>\n",
       "      <td>8.0</td>\n",
       "      <td>1.0</td>\n",
       "      <td>Yes</td>\n",
       "    </tr>\n",
       "    <tr>\n",
       "      <th>19</th>\n",
       "      <td>140719</td>\n",
       "      <td>Kiran</td>\n",
       "      <td>Male</td>\n",
       "      <td>28.0</td>\n",
       "      <td>Lucknow</td>\n",
       "      <td>Student</td>\n",
       "      <td>NaN</td>\n",
       "      <td>5.0</td>\n",
       "      <td>NaN</td>\n",
       "      <td>6.03</td>\n",
       "      <td>3.0</td>\n",
       "      <td>NaN</td>\n",
       "      <td>7-8 hours</td>\n",
       "      <td>Moderate</td>\n",
       "      <td>MA</td>\n",
       "      <td>No</td>\n",
       "      <td>11.0</td>\n",
       "      <td>3.0</td>\n",
       "      <td>Yes</td>\n",
       "    </tr>\n",
       "    <tr>\n",
       "      <th>20</th>\n",
       "      <td>140720</td>\n",
       "      <td>Rashi</td>\n",
       "      <td>Female</td>\n",
       "      <td>26.0</td>\n",
       "      <td>Ghaziabad</td>\n",
       "      <td>Student</td>\n",
       "      <td>NaN</td>\n",
       "      <td>3.0</td>\n",
       "      <td>NaN</td>\n",
       "      <td>8.63</td>\n",
       "      <td>5.0</td>\n",
       "      <td>NaN</td>\n",
       "      <td>More than 8 hours</td>\n",
       "      <td>Moderate</td>\n",
       "      <td>BBA</td>\n",
       "      <td>Yes</td>\n",
       "      <td>10.0</td>\n",
       "      <td>4.0</td>\n",
       "      <td>Yes</td>\n",
       "    </tr>\n",
       "    <tr>\n",
       "      <th>21</th>\n",
       "      <td>140721</td>\n",
       "      <td>Manan</td>\n",
       "      <td>Male</td>\n",
       "      <td>32.0</td>\n",
       "      <td>Visakhapatnam</td>\n",
       "      <td>Student</td>\n",
       "      <td>NaN</td>\n",
       "      <td>3.0</td>\n",
       "      <td>NaN</td>\n",
       "      <td>8.61</td>\n",
       "      <td>1.0</td>\n",
       "      <td>NaN</td>\n",
       "      <td>Less than 5 hours</td>\n",
       "      <td>Moderate</td>\n",
       "      <td>M.Ed</td>\n",
       "      <td>Yes</td>\n",
       "      <td>11.0</td>\n",
       "      <td>5.0</td>\n",
       "      <td>No</td>\n",
       "    </tr>\n",
       "  </tbody>\n",
       "</table>\n",
       "</div>"
      ],
      "text/plain": [
       "        id    Name  Gender   Age           City  \\\n",
       "3   140703  Nalini  Female  23.0         Rajkot   \n",
       "8   140708   Navya  Female  21.0          Surat   \n",
       "19  140719   Kiran    Male  28.0        Lucknow   \n",
       "20  140720   Rashi  Female  26.0      Ghaziabad   \n",
       "21  140721   Manan    Male  32.0  Visakhapatnam   \n",
       "\n",
       "   Working Professional or Student Profession  Academic Pressure  \\\n",
       "3                          Student        NaN                5.0   \n",
       "8                          Student        NaN                1.0   \n",
       "19                         Student        NaN                5.0   \n",
       "20                         Student        NaN                3.0   \n",
       "21                         Student        NaN                3.0   \n",
       "\n",
       "    Work Pressure  CGPA  Study Satisfaction  Job Satisfaction  \\\n",
       "3             NaN  6.84                 1.0               NaN   \n",
       "8             NaN  7.39                 3.0               NaN   \n",
       "19            NaN  6.03                 3.0               NaN   \n",
       "20            NaN  8.63                 5.0               NaN   \n",
       "21            NaN  8.61                 1.0               NaN   \n",
       "\n",
       "       Sleep Duration Dietary Habits Degree  \\\n",
       "3   More than 8 hours       Moderate    BSc   \n",
       "8   Less than 5 hours        Healthy    BBA   \n",
       "19          7-8 hours       Moderate     MA   \n",
       "20  More than 8 hours       Moderate    BBA   \n",
       "21  Less than 5 hours       Moderate   M.Ed   \n",
       "\n",
       "   Have you ever had suicidal thoughts ?  Work/Study Hours  Financial Stress  \\\n",
       "3                                    Yes              10.0               4.0   \n",
       "8                                     No               8.0               1.0   \n",
       "19                                    No              11.0               3.0   \n",
       "20                                   Yes              10.0               4.0   \n",
       "21                                   Yes              11.0               5.0   \n",
       "\n",
       "   Family History of Mental Illness  \n",
       "3                                No  \n",
       "8                               Yes  \n",
       "19                              Yes  \n",
       "20                              Yes  \n",
       "21                               No  "
      ]
     },
     "execution_count": 14,
     "metadata": {},
     "output_type": "execute_result"
    }
   ],
   "source": [
    "stud_df.head()"
   ]
  },
  {
   "cell_type": "code",
   "execution_count": 15,
   "id": "77df8909-3347-416c-913e-4bda603ebea1",
   "metadata": {},
   "outputs": [],
   "source": [
    "stud_df=stud_df.drop(['Profession'], axis=1)"
   ]
  },
  {
   "cell_type": "code",
   "execution_count": 16,
   "id": "8fbbc288-81fa-46f1-95d3-99be1f4ade3b",
   "metadata": {},
   "outputs": [],
   "source": [
    "stud_df = stud_df[(stud_df['Degree'] != '3.0') & \n",
    "                  (stud_df['Degree'] != '20') & \n",
    "                  (stud_df['Degree'] != '8.95')]"
   ]
  },
  {
   "cell_type": "code",
   "execution_count": 17,
   "id": "3860e895-e09b-4b59-bd41-51e085d3dc3a",
   "metadata": {},
   "outputs": [
    {
     "data": {
      "text/html": [
       "<div>\n",
       "<style scoped>\n",
       "    .dataframe tbody tr th:only-of-type {\n",
       "        vertical-align: middle;\n",
       "    }\n",
       "\n",
       "    .dataframe tbody tr th {\n",
       "        vertical-align: top;\n",
       "    }\n",
       "\n",
       "    .dataframe thead th {\n",
       "        text-align: right;\n",
       "    }\n",
       "</style>\n",
       "<table border=\"1\" class=\"dataframe\">\n",
       "  <thead>\n",
       "    <tr style=\"text-align: right;\">\n",
       "      <th></th>\n",
       "      <th>id</th>\n",
       "      <th>Name</th>\n",
       "      <th>Gender</th>\n",
       "      <th>Age</th>\n",
       "      <th>City</th>\n",
       "      <th>Working Professional or Student</th>\n",
       "      <th>Academic Pressure</th>\n",
       "      <th>Work Pressure</th>\n",
       "      <th>CGPA</th>\n",
       "      <th>Study Satisfaction</th>\n",
       "      <th>Job Satisfaction</th>\n",
       "      <th>Sleep Duration</th>\n",
       "      <th>Dietary Habits</th>\n",
       "      <th>Degree</th>\n",
       "      <th>Have you ever had suicidal thoughts ?</th>\n",
       "      <th>Work/Study Hours</th>\n",
       "      <th>Financial Stress</th>\n",
       "      <th>Family History of Mental Illness</th>\n",
       "    </tr>\n",
       "  </thead>\n",
       "  <tbody>\n",
       "    <tr>\n",
       "      <th>3</th>\n",
       "      <td>140703</td>\n",
       "      <td>Nalini</td>\n",
       "      <td>Female</td>\n",
       "      <td>23.0</td>\n",
       "      <td>Rajkot</td>\n",
       "      <td>Student</td>\n",
       "      <td>5.0</td>\n",
       "      <td>NaN</td>\n",
       "      <td>6.84</td>\n",
       "      <td>1.0</td>\n",
       "      <td>NaN</td>\n",
       "      <td>More than 8 hours</td>\n",
       "      <td>Moderate</td>\n",
       "      <td>BSc</td>\n",
       "      <td>Yes</td>\n",
       "      <td>10.0</td>\n",
       "      <td>4.0</td>\n",
       "      <td>No</td>\n",
       "    </tr>\n",
       "    <tr>\n",
       "      <th>8</th>\n",
       "      <td>140708</td>\n",
       "      <td>Navya</td>\n",
       "      <td>Female</td>\n",
       "      <td>21.0</td>\n",
       "      <td>Surat</td>\n",
       "      <td>Student</td>\n",
       "      <td>1.0</td>\n",
       "      <td>NaN</td>\n",
       "      <td>7.39</td>\n",
       "      <td>3.0</td>\n",
       "      <td>NaN</td>\n",
       "      <td>Less than 5 hours</td>\n",
       "      <td>Healthy</td>\n",
       "      <td>BBA</td>\n",
       "      <td>No</td>\n",
       "      <td>8.0</td>\n",
       "      <td>1.0</td>\n",
       "      <td>Yes</td>\n",
       "    </tr>\n",
       "    <tr>\n",
       "      <th>19</th>\n",
       "      <td>140719</td>\n",
       "      <td>Kiran</td>\n",
       "      <td>Male</td>\n",
       "      <td>28.0</td>\n",
       "      <td>Lucknow</td>\n",
       "      <td>Student</td>\n",
       "      <td>5.0</td>\n",
       "      <td>NaN</td>\n",
       "      <td>6.03</td>\n",
       "      <td>3.0</td>\n",
       "      <td>NaN</td>\n",
       "      <td>7-8 hours</td>\n",
       "      <td>Moderate</td>\n",
       "      <td>MA</td>\n",
       "      <td>No</td>\n",
       "      <td>11.0</td>\n",
       "      <td>3.0</td>\n",
       "      <td>Yes</td>\n",
       "    </tr>\n",
       "    <tr>\n",
       "      <th>20</th>\n",
       "      <td>140720</td>\n",
       "      <td>Rashi</td>\n",
       "      <td>Female</td>\n",
       "      <td>26.0</td>\n",
       "      <td>Ghaziabad</td>\n",
       "      <td>Student</td>\n",
       "      <td>3.0</td>\n",
       "      <td>NaN</td>\n",
       "      <td>8.63</td>\n",
       "      <td>5.0</td>\n",
       "      <td>NaN</td>\n",
       "      <td>More than 8 hours</td>\n",
       "      <td>Moderate</td>\n",
       "      <td>BBA</td>\n",
       "      <td>Yes</td>\n",
       "      <td>10.0</td>\n",
       "      <td>4.0</td>\n",
       "      <td>Yes</td>\n",
       "    </tr>\n",
       "    <tr>\n",
       "      <th>21</th>\n",
       "      <td>140721</td>\n",
       "      <td>Manan</td>\n",
       "      <td>Male</td>\n",
       "      <td>32.0</td>\n",
       "      <td>Visakhapatnam</td>\n",
       "      <td>Student</td>\n",
       "      <td>3.0</td>\n",
       "      <td>NaN</td>\n",
       "      <td>8.61</td>\n",
       "      <td>1.0</td>\n",
       "      <td>NaN</td>\n",
       "      <td>Less than 5 hours</td>\n",
       "      <td>Moderate</td>\n",
       "      <td>M.Ed</td>\n",
       "      <td>Yes</td>\n",
       "      <td>11.0</td>\n",
       "      <td>5.0</td>\n",
       "      <td>No</td>\n",
       "    </tr>\n",
       "  </tbody>\n",
       "</table>\n",
       "</div>"
      ],
      "text/plain": [
       "        id    Name  Gender   Age           City  \\\n",
       "3   140703  Nalini  Female  23.0         Rajkot   \n",
       "8   140708   Navya  Female  21.0          Surat   \n",
       "19  140719   Kiran    Male  28.0        Lucknow   \n",
       "20  140720   Rashi  Female  26.0      Ghaziabad   \n",
       "21  140721   Manan    Male  32.0  Visakhapatnam   \n",
       "\n",
       "   Working Professional or Student  Academic Pressure  Work Pressure  CGPA  \\\n",
       "3                          Student                5.0            NaN  6.84   \n",
       "8                          Student                1.0            NaN  7.39   \n",
       "19                         Student                5.0            NaN  6.03   \n",
       "20                         Student                3.0            NaN  8.63   \n",
       "21                         Student                3.0            NaN  8.61   \n",
       "\n",
       "    Study Satisfaction  Job Satisfaction     Sleep Duration Dietary Habits  \\\n",
       "3                  1.0               NaN  More than 8 hours       Moderate   \n",
       "8                  3.0               NaN  Less than 5 hours        Healthy   \n",
       "19                 3.0               NaN          7-8 hours       Moderate   \n",
       "20                 5.0               NaN  More than 8 hours       Moderate   \n",
       "21                 1.0               NaN  Less than 5 hours       Moderate   \n",
       "\n",
       "   Degree Have you ever had suicidal thoughts ?  Work/Study Hours  \\\n",
       "3     BSc                                   Yes              10.0   \n",
       "8     BBA                                    No               8.0   \n",
       "19     MA                                    No              11.0   \n",
       "20    BBA                                   Yes              10.0   \n",
       "21   M.Ed                                   Yes              11.0   \n",
       "\n",
       "    Financial Stress Family History of Mental Illness  \n",
       "3                4.0                               No  \n",
       "8                1.0                              Yes  \n",
       "19               3.0                              Yes  \n",
       "20               4.0                              Yes  \n",
       "21               5.0                               No  "
      ]
     },
     "execution_count": 17,
     "metadata": {},
     "output_type": "execute_result"
    }
   ],
   "source": [
    "stud_df.head()"
   ]
  },
  {
   "cell_type": "code",
   "execution_count": 18,
   "id": "7034283b-f7dc-486b-9a93-ed7ca0a1afe1",
   "metadata": {},
   "outputs": [
    {
     "data": {
      "text/plain": [
       "id                                           0\n",
       "Name                                         0\n",
       "Gender                                       0\n",
       "Age                                          0\n",
       "City                                         0\n",
       "Working Professional or Student              0\n",
       "Profession                                5886\n",
       "Academic Pressure                        75026\n",
       "Work Pressure                               10\n",
       "CGPA                                     75025\n",
       "Study Satisfaction                       75025\n",
       "Job Satisfaction                             9\n",
       "Sleep Duration                               0\n",
       "Dietary Habits                               2\n",
       "Degree                                       1\n",
       "Have you ever had suicidal thoughts ?        0\n",
       "Work/Study Hours                             0\n",
       "Financial Stress                             0\n",
       "Family History of Mental Illness             0\n",
       "dtype: int64"
      ]
     },
     "execution_count": 18,
     "metadata": {},
     "output_type": "execute_result"
    }
   ],
   "source": [
    "professional_df.isnull().sum()"
   ]
  },
  {
   "cell_type": "code",
   "execution_count": 19,
   "id": "98142133-bdcb-4c05-9545-e42594e94969",
   "metadata": {},
   "outputs": [],
   "source": [
    "professional_df['CGPA']=professional_df['CGPA'].fillna(professional_df['CGPA'].mean())"
   ]
  },
  {
   "cell_type": "code",
   "execution_count": 20,
   "id": "b5e24e28-9142-428d-9e2e-9c7b3b6410a0",
   "metadata": {},
   "outputs": [
    {
     "data": {
      "text/plain": [
       "id                                           0\n",
       "Name                                         0\n",
       "Gender                                       0\n",
       "Age                                          0\n",
       "City                                         0\n",
       "Working Professional or Student              0\n",
       "Profession                                5886\n",
       "Academic Pressure                        75026\n",
       "Work Pressure                               10\n",
       "CGPA                                         0\n",
       "Study Satisfaction                       75025\n",
       "Job Satisfaction                             9\n",
       "Sleep Duration                               0\n",
       "Dietary Habits                               2\n",
       "Degree                                       1\n",
       "Have you ever had suicidal thoughts ?        0\n",
       "Work/Study Hours                             0\n",
       "Financial Stress                             0\n",
       "Family History of Mental Illness             0\n",
       "dtype: int64"
      ]
     },
     "execution_count": 20,
     "metadata": {},
     "output_type": "execute_result"
    }
   ],
   "source": [
    "professional_df.isnull().sum()"
   ]
  },
  {
   "cell_type": "code",
   "execution_count": 21,
   "id": "5e3e8da3-c864-424a-9092-ea3b0f9073c3",
   "metadata": {},
   "outputs": [],
   "source": [
    "professional_df=professional_df.drop(['Academic Pressure'],axis=1)"
   ]
  },
  {
   "cell_type": "code",
   "execution_count": 22,
   "id": "fa535fab-f54e-478b-befd-2cb6fc1a9253",
   "metadata": {},
   "outputs": [],
   "source": [
    "professional_df=professional_df.drop(['Study Satisfaction'],axis=1)"
   ]
  },
  {
   "cell_type": "code",
   "execution_count": 23,
   "id": "2a5aaeef-fdfb-4644-831e-d33f2b0c960c",
   "metadata": {},
   "outputs": [
    {
     "data": {
      "text/plain": [
       "id                                          0\n",
       "Name                                        0\n",
       "Gender                                      0\n",
       "Age                                         0\n",
       "City                                        0\n",
       "Working Professional or Student             0\n",
       "Profession                               5886\n",
       "Work Pressure                              10\n",
       "CGPA                                        0\n",
       "Job Satisfaction                            9\n",
       "Sleep Duration                              0\n",
       "Dietary Habits                              2\n",
       "Degree                                      1\n",
       "Have you ever had suicidal thoughts ?       0\n",
       "Work/Study Hours                            0\n",
       "Financial Stress                            0\n",
       "Family History of Mental Illness            0\n",
       "dtype: int64"
      ]
     },
     "execution_count": 23,
     "metadata": {},
     "output_type": "execute_result"
    }
   ],
   "source": [
    "professional_df.isnull().sum()"
   ]
  },
  {
   "cell_type": "code",
   "execution_count": 24,
   "id": "72616253-53d0-4bf4-9662-a0039709d92e",
   "metadata": {},
   "outputs": [],
   "source": [
    "prof_df=professional_df.copy()"
   ]
  },
  {
   "cell_type": "code",
   "execution_count": 25,
   "id": "e1624fa1-d746-40e3-9892-2633025c9b52",
   "metadata": {},
   "outputs": [],
   "source": [
    "prof_df=prof_df.dropna(subset=['Profession'])"
   ]
  },
  {
   "cell_type": "code",
   "execution_count": 26,
   "id": "28756c63-1068-4c9e-a75f-cce8fc1a4029",
   "metadata": {},
   "outputs": [
    {
     "data": {
      "text/plain": [
       "id                                       0\n",
       "Name                                     0\n",
       "Gender                                   0\n",
       "Age                                      0\n",
       "City                                     0\n",
       "Working Professional or Student          0\n",
       "Profession                               0\n",
       "Work Pressure                            0\n",
       "CGPA                                     0\n",
       "Job Satisfaction                         0\n",
       "Sleep Duration                           0\n",
       "Dietary Habits                           2\n",
       "Degree                                   1\n",
       "Have you ever had suicidal thoughts ?    0\n",
       "Work/Study Hours                         0\n",
       "Financial Stress                         0\n",
       "Family History of Mental Illness         0\n",
       "dtype: int64"
      ]
     },
     "execution_count": 26,
     "metadata": {},
     "output_type": "execute_result"
    }
   ],
   "source": [
    "prof_df.isnull().sum()"
   ]
  },
  {
   "cell_type": "code",
   "execution_count": 27,
   "id": "b565f832-7de5-4447-8a16-eb0c9629760c",
   "metadata": {},
   "outputs": [],
   "source": [
    "prof_df=prof_df.dropna(subset=['Dietary Habits'])"
   ]
  },
  {
   "cell_type": "code",
   "execution_count": 28,
   "id": "d8b50ed2-5de2-4058-9df2-860e05c561af",
   "metadata": {},
   "outputs": [
    {
     "data": {
      "text/plain": [
       "array(['LLB', 'B.Ed', 'B.Arch', 'BCA', 'B.Com', 'MA', 'BA', 'MD', 'MBA',\n",
       "       'M.Ed', 'M.Pharm', 'BSc', 'LLM', 'PhD', 'M.Com', 'BE', 'BHM',\n",
       "       'MBBS', 'B.Tech', 'ME', 'MCA', 'B.Pharm', 'MHM', 'BBA', 'M.Tech',\n",
       "       'BTech', 'MSc', 'BArch', 'Class 12', 'Advait', 'M.Arch',\n",
       "       'Mechanical Engineer', 'B.H', 'B.Sc', 'Vibha', 'B BCA', 'B.Press',\n",
       "       'BPharm', 'MPharm', 'Travel Consultant', 'B', 'Business Analyst',\n",
       "       'B_Com', 'Navya', 'B._Pharm', 'Pune', 'Bian', 'B.M.Com', 'Kavya',\n",
       "       'M.M.Ed', 'S.Pharm', 'Vrinda', 'E.Ed', 'Moham', 'B.BA', nan,\n",
       "       'I.Ed', 'Degree', 'Eshita', 'Magan', 'B B.Tech', 'Bhopal',\n",
       "       'B Financial Analyst', 'GCA', 'G.Ed', 'RCA', 'B.CA', 'PCA', 'J.Ed',\n",
       "       'BH', 'BEd', 'Aadhya', 'M.', 'K.Ed', 'BHCA'], dtype=object)"
      ]
     },
     "execution_count": 28,
     "metadata": {},
     "output_type": "execute_result"
    }
   ],
   "source": [
    "prof_df['Degree'].unique()"
   ]
  },
  {
   "cell_type": "code",
   "execution_count": 29,
   "id": "c595330d-3f6b-4de9-a9df-09e16cd9180d",
   "metadata": {},
   "outputs": [],
   "source": [
    "prof_df=prof_df.dropna(subset=['Degree'])"
   ]
  },
  {
   "cell_type": "code",
   "execution_count": 30,
   "id": "efa1b0e3-e745-448a-96d2-211494e270e9",
   "metadata": {},
   "outputs": [
    {
     "data": {
      "text/plain": [
       "id                                       0\n",
       "Name                                     0\n",
       "Gender                                   0\n",
       "Age                                      0\n",
       "City                                     0\n",
       "Working Professional or Student          0\n",
       "Profession                               0\n",
       "Work Pressure                            0\n",
       "CGPA                                     0\n",
       "Job Satisfaction                         0\n",
       "Sleep Duration                           0\n",
       "Dietary Habits                           0\n",
       "Degree                                   0\n",
       "Have you ever had suicidal thoughts ?    0\n",
       "Work/Study Hours                         0\n",
       "Financial Stress                         0\n",
       "Family History of Mental Illness         0\n",
       "dtype: int64"
      ]
     },
     "execution_count": 30,
     "metadata": {},
     "output_type": "execute_result"
    }
   ],
   "source": [
    "prof_df.isnull().sum()"
   ]
  },
  {
   "cell_type": "code",
   "execution_count": 31,
   "id": "6d756e16-a3e6-4bc5-9c6a-da45f9bfc06e",
   "metadata": {},
   "outputs": [],
   "source": [
    "stud_df=stud_df.drop(['Work Pressure'],axis=1)"
   ]
  },
  {
   "cell_type": "code",
   "execution_count": 32,
   "id": "746be665-9905-4388-becd-eca70fc0b5ee",
   "metadata": {},
   "outputs": [],
   "source": [
    "stud_df=stud_df.drop(['Job Satisfaction'],axis=1)"
   ]
  },
  {
   "cell_type": "code",
   "execution_count": 33,
   "id": "8df5c09e-6eec-4b41-9d1b-62036972469a",
   "metadata": {},
   "outputs": [
    {
     "data": {
      "text/plain": [
       "id                                       0\n",
       "Name                                     0\n",
       "Gender                                   0\n",
       "Age                                      0\n",
       "City                                     0\n",
       "Working Professional or Student          0\n",
       "Academic Pressure                        7\n",
       "CGPA                                     0\n",
       "Study Satisfaction                       8\n",
       "Sleep Duration                           0\n",
       "Dietary Habits                           3\n",
       "Degree                                   1\n",
       "Have you ever had suicidal thoughts ?    0\n",
       "Work/Study Hours                         0\n",
       "Financial Stress                         0\n",
       "Family History of Mental Illness         0\n",
       "dtype: int64"
      ]
     },
     "execution_count": 33,
     "metadata": {},
     "output_type": "execute_result"
    }
   ],
   "source": [
    "stud_df.isnull().sum()"
   ]
  },
  {
   "cell_type": "code",
   "execution_count": 34,
   "id": "e783fef3-ea36-4340-9836-81358109455c",
   "metadata": {},
   "outputs": [],
   "source": [
    "stud_df=stud_df.dropna(subset=['Degree'])"
   ]
  },
  {
   "cell_type": "code",
   "execution_count": 35,
   "id": "9d4a1946-5eb4-4b55-a87b-3a392f02560b",
   "metadata": {},
   "outputs": [
    {
     "data": {
      "text/plain": [
       "id                                       0\n",
       "Name                                     0\n",
       "Gender                                   0\n",
       "Age                                      0\n",
       "City                                     0\n",
       "Working Professional or Student          0\n",
       "Academic Pressure                        7\n",
       "CGPA                                     0\n",
       "Study Satisfaction                       8\n",
       "Sleep Duration                           0\n",
       "Dietary Habits                           3\n",
       "Degree                                   0\n",
       "Have you ever had suicidal thoughts ?    0\n",
       "Work/Study Hours                         0\n",
       "Financial Stress                         0\n",
       "Family History of Mental Illness         0\n",
       "dtype: int64"
      ]
     },
     "execution_count": 35,
     "metadata": {},
     "output_type": "execute_result"
    }
   ],
   "source": [
    "stud_df.isnull().sum()"
   ]
  },
  {
   "cell_type": "code",
   "execution_count": 36,
   "id": "4df784b3-a6bc-4331-a6c9-663b42cb0ab9",
   "metadata": {},
   "outputs": [],
   "source": [
    "stud_df=stud_df.dropna(subset=['Academic Pressure'])"
   ]
  },
  {
   "cell_type": "code",
   "execution_count": 37,
   "id": "bae01f3b-7b90-4be5-898d-f5417d173239",
   "metadata": {},
   "outputs": [
    {
     "data": {
      "text/plain": [
       "id                                       0\n",
       "Name                                     0\n",
       "Gender                                   0\n",
       "Age                                      0\n",
       "City                                     0\n",
       "Working Professional or Student          0\n",
       "Academic Pressure                        0\n",
       "CGPA                                     0\n",
       "Study Satisfaction                       2\n",
       "Sleep Duration                           0\n",
       "Dietary Habits                           3\n",
       "Degree                                   0\n",
       "Have you ever had suicidal thoughts ?    0\n",
       "Work/Study Hours                         0\n",
       "Financial Stress                         0\n",
       "Family History of Mental Illness         0\n",
       "dtype: int64"
      ]
     },
     "execution_count": 37,
     "metadata": {},
     "output_type": "execute_result"
    }
   ],
   "source": [
    "stud_df.isnull().sum()"
   ]
  },
  {
   "cell_type": "code",
   "execution_count": 38,
   "id": "091ee19f-5c0c-4c42-b368-5b7c59e95fe2",
   "metadata": {},
   "outputs": [
    {
     "data": {
      "text/plain": [
       "array([ 1.,  3.,  5.,  2.,  4., nan])"
      ]
     },
     "execution_count": 38,
     "metadata": {},
     "output_type": "execute_result"
    }
   ],
   "source": [
    "stud_df['Study Satisfaction'].unique()"
   ]
  },
  {
   "cell_type": "code",
   "execution_count": 39,
   "id": "29d0da3e-977f-4168-9e17-6fedfa5c2021",
   "metadata": {},
   "outputs": [],
   "source": [
    "stud_df['Study Satisfaction']=stud_df['Study Satisfaction'].fillna(stud_df['Study Satisfaction'].mean())"
   ]
  },
  {
   "cell_type": "code",
   "execution_count": 40,
   "id": "04b6bf99-cd04-406b-ac28-93c01c32b00f",
   "metadata": {},
   "outputs": [
    {
     "data": {
      "text/plain": [
       "array([1.        , 3.        , 5.        , 2.        , 4.        ,\n",
       "       2.93895938])"
      ]
     },
     "execution_count": 40,
     "metadata": {},
     "output_type": "execute_result"
    }
   ],
   "source": [
    "stud_df['Study Satisfaction'].unique()"
   ]
  },
  {
   "cell_type": "code",
   "execution_count": 41,
   "id": "174b0966-c5c6-422a-a15e-5febb8d2c89a",
   "metadata": {},
   "outputs": [
    {
     "data": {
      "text/plain": [
       "id                                       0\n",
       "Name                                     0\n",
       "Gender                                   0\n",
       "Age                                      0\n",
       "City                                     0\n",
       "Working Professional or Student          0\n",
       "Academic Pressure                        0\n",
       "CGPA                                     0\n",
       "Study Satisfaction                       0\n",
       "Sleep Duration                           0\n",
       "Dietary Habits                           3\n",
       "Degree                                   0\n",
       "Have you ever had suicidal thoughts ?    0\n",
       "Work/Study Hours                         0\n",
       "Financial Stress                         0\n",
       "Family History of Mental Illness         0\n",
       "dtype: int64"
      ]
     },
     "execution_count": 41,
     "metadata": {},
     "output_type": "execute_result"
    }
   ],
   "source": [
    "stud_df.isnull().sum()"
   ]
  },
  {
   "cell_type": "code",
   "execution_count": 42,
   "id": "4551a2fd-3af9-4df6-b2c9-94f7347533cd",
   "metadata": {},
   "outputs": [
    {
     "data": {
      "text/plain": [
       "array(['Moderate', 'Healthy', 'Unhealthy', nan, 'Male', 'Mealy', 'No',\n",
       "       '5 Healthy', 'Naina'], dtype=object)"
      ]
     },
     "execution_count": 42,
     "metadata": {},
     "output_type": "execute_result"
    }
   ],
   "source": [
    "stud_df['Dietary Habits'].unique()"
   ]
  },
  {
   "cell_type": "code",
   "execution_count": 43,
   "id": "d19b2f09-f3eb-4aa7-bb31-e7a9e1e86d25",
   "metadata": {},
   "outputs": [],
   "source": [
    "stud_df=stud_df.dropna(subset=['Dietary Habits'])"
   ]
  },
  {
   "cell_type": "code",
   "execution_count": 44,
   "id": "ac92acce-3133-4ff4-827e-46ecb31f5561",
   "metadata": {},
   "outputs": [
    {
     "data": {
      "text/plain": [
       "id                                       0\n",
       "Name                                     0\n",
       "Gender                                   0\n",
       "Age                                      0\n",
       "City                                     0\n",
       "Working Professional or Student          0\n",
       "Academic Pressure                        0\n",
       "CGPA                                     0\n",
       "Study Satisfaction                       0\n",
       "Sleep Duration                           0\n",
       "Dietary Habits                           0\n",
       "Degree                                   0\n",
       "Have you ever had suicidal thoughts ?    0\n",
       "Work/Study Hours                         0\n",
       "Financial Stress                         0\n",
       "Family History of Mental Illness         0\n",
       "dtype: int64"
      ]
     },
     "execution_count": 44,
     "metadata": {},
     "output_type": "execute_result"
    }
   ],
   "source": [
    "stud_df.isnull().sum()"
   ]
  },
  {
   "cell_type": "code",
   "execution_count": 45,
   "id": "4d1359ff-65dc-4c0e-9250-b2e342c6b9e8",
   "metadata": {},
   "outputs": [
    {
     "name": "stdout",
     "output_type": "stream",
     "text": [
      "Index(['id', 'Name', 'Gender', 'Age', 'City',\n",
      "       'Working Professional or Student', 'Academic Pressure', 'CGPA',\n",
      "       'Study Satisfaction', 'Sleep Duration', 'Dietary Habits', 'Degree',\n",
      "       'Have you ever had suicidal thoughts ?', 'Work/Study Hours',\n",
      "       'Financial Stress', 'Family History of Mental Illness'],\n",
      "      dtype='object')\n"
     ]
    }
   ],
   "source": [
    "print(stud_df.columns)"
   ]
  },
  {
   "cell_type": "code",
   "execution_count": 46,
   "id": "b54beef0-d27e-419d-a349-b2999a295389",
   "metadata": {},
   "outputs": [
    {
     "data": {
      "text/plain": [
       "array(['Judge', 'Educational Consultant', 'Teacher', 'Customer Support',\n",
       "       nan, 'Chemist', 'Content Writer', 'Consultant', 'HR Manager',\n",
       "       'Research Analyst', 'Digital Marketer', 'Electrician',\n",
       "       'Marketing Manager', 'Plumber', 'Pharmacist', 'Lawyer', 'Pilot',\n",
       "       'Architect', 'Chef', 'Graphic Designer', 'Entrepreneur', 'Manager',\n",
       "       'Mechanical Engineer', 'Software Engineer', 'Travel Consultant',\n",
       "       'Finanancial Analyst', 'Financial Analyst', 'Doctor',\n",
       "       'Business Analyst', 'UX/UI Designer', 'Sales Executive',\n",
       "       'Data Scientist', 'Accountant', 'Researcher', 'Civil Engineer',\n",
       "       'Investment Banker', 'Unhealthy', 'B.Ed', 'Student',\n",
       "       'Working Professional', 'ME', 'B.Pharm', '24th', 'Manvi', 'Yogesh',\n",
       "       'Samar', 'Surat', 'PhD', 'M.Ed', 'MD', 'Name', 'MCA', 'Simran',\n",
       "       'Analyst', 'Profession', 'Unemployed', 'BBA', 'LLM', 'Surgeon',\n",
       "       'No', 'Unveil', 'City Consultant', 'M.Pharm'], dtype=object)"
      ]
     },
     "execution_count": 46,
     "metadata": {},
     "output_type": "execute_result"
    }
   ],
   "source": [
    "professional_df['Profession'].unique()"
   ]
  },
  {
   "cell_type": "code",
   "execution_count": 47,
   "id": "0cfb4f18-2bf3-44ef-a67b-7f248fafb473",
   "metadata": {},
   "outputs": [
    {
     "data": {
      "text/plain": [
       "Index(['id', 'Name', 'Gender', 'Age', 'City',\n",
       "       'Working Professional or Student', 'Profession', 'Work Pressure',\n",
       "       'CGPA', 'Job Satisfaction', 'Sleep Duration', 'Dietary Habits',\n",
       "       'Degree', 'Have you ever had suicidal thoughts ?', 'Work/Study Hours',\n",
       "       'Financial Stress', 'Family History of Mental Illness'],\n",
       "      dtype='object')"
      ]
     },
     "execution_count": 47,
     "metadata": {},
     "output_type": "execute_result"
    }
   ],
   "source": [
    "professional_df.columns"
   ]
  },
  {
   "cell_type": "code",
   "execution_count": 48,
   "id": "33789767-db3a-45b3-a687-a0ad0df2c2a3",
   "metadata": {},
   "outputs": [
    {
     "data": {
      "text/html": [
       "<div>\n",
       "<style scoped>\n",
       "    .dataframe tbody tr th:only-of-type {\n",
       "        vertical-align: middle;\n",
       "    }\n",
       "\n",
       "    .dataframe tbody tr th {\n",
       "        vertical-align: top;\n",
       "    }\n",
       "\n",
       "    .dataframe thead th {\n",
       "        text-align: right;\n",
       "    }\n",
       "</style>\n",
       "<table border=\"1\" class=\"dataframe\">\n",
       "  <thead>\n",
       "    <tr style=\"text-align: right;\">\n",
       "      <th></th>\n",
       "      <th>id</th>\n",
       "      <th>Name</th>\n",
       "      <th>Gender</th>\n",
       "      <th>Age</th>\n",
       "      <th>City</th>\n",
       "      <th>Working Professional or Student</th>\n",
       "      <th>Academic Pressure</th>\n",
       "      <th>CGPA</th>\n",
       "      <th>Study Satisfaction</th>\n",
       "      <th>Sleep Duration</th>\n",
       "      <th>Dietary Habits</th>\n",
       "      <th>Degree</th>\n",
       "      <th>Have you ever had suicidal thoughts ?</th>\n",
       "      <th>Work/Study Hours</th>\n",
       "      <th>Financial Stress</th>\n",
       "      <th>Family History of Mental Illness</th>\n",
       "    </tr>\n",
       "  </thead>\n",
       "  <tbody>\n",
       "    <tr>\n",
       "      <th>3</th>\n",
       "      <td>140703</td>\n",
       "      <td>Nalini</td>\n",
       "      <td>Female</td>\n",
       "      <td>23.0</td>\n",
       "      <td>Rajkot</td>\n",
       "      <td>Student</td>\n",
       "      <td>5.0</td>\n",
       "      <td>6.84</td>\n",
       "      <td>1.0</td>\n",
       "      <td>More than 8 hours</td>\n",
       "      <td>Moderate</td>\n",
       "      <td>BSc</td>\n",
       "      <td>Yes</td>\n",
       "      <td>10.0</td>\n",
       "      <td>4.0</td>\n",
       "      <td>No</td>\n",
       "    </tr>\n",
       "    <tr>\n",
       "      <th>8</th>\n",
       "      <td>140708</td>\n",
       "      <td>Navya</td>\n",
       "      <td>Female</td>\n",
       "      <td>21.0</td>\n",
       "      <td>Surat</td>\n",
       "      <td>Student</td>\n",
       "      <td>1.0</td>\n",
       "      <td>7.39</td>\n",
       "      <td>3.0</td>\n",
       "      <td>Less than 5 hours</td>\n",
       "      <td>Healthy</td>\n",
       "      <td>BBA</td>\n",
       "      <td>No</td>\n",
       "      <td>8.0</td>\n",
       "      <td>1.0</td>\n",
       "      <td>Yes</td>\n",
       "    </tr>\n",
       "    <tr>\n",
       "      <th>19</th>\n",
       "      <td>140719</td>\n",
       "      <td>Kiran</td>\n",
       "      <td>Male</td>\n",
       "      <td>28.0</td>\n",
       "      <td>Lucknow</td>\n",
       "      <td>Student</td>\n",
       "      <td>5.0</td>\n",
       "      <td>6.03</td>\n",
       "      <td>3.0</td>\n",
       "      <td>7-8 hours</td>\n",
       "      <td>Moderate</td>\n",
       "      <td>MA</td>\n",
       "      <td>No</td>\n",
       "      <td>11.0</td>\n",
       "      <td>3.0</td>\n",
       "      <td>Yes</td>\n",
       "    </tr>\n",
       "    <tr>\n",
       "      <th>20</th>\n",
       "      <td>140720</td>\n",
       "      <td>Rashi</td>\n",
       "      <td>Female</td>\n",
       "      <td>26.0</td>\n",
       "      <td>Ghaziabad</td>\n",
       "      <td>Student</td>\n",
       "      <td>3.0</td>\n",
       "      <td>8.63</td>\n",
       "      <td>5.0</td>\n",
       "      <td>More than 8 hours</td>\n",
       "      <td>Moderate</td>\n",
       "      <td>BBA</td>\n",
       "      <td>Yes</td>\n",
       "      <td>10.0</td>\n",
       "      <td>4.0</td>\n",
       "      <td>Yes</td>\n",
       "    </tr>\n",
       "    <tr>\n",
       "      <th>21</th>\n",
       "      <td>140721</td>\n",
       "      <td>Manan</td>\n",
       "      <td>Male</td>\n",
       "      <td>32.0</td>\n",
       "      <td>Visakhapatnam</td>\n",
       "      <td>Student</td>\n",
       "      <td>3.0</td>\n",
       "      <td>8.61</td>\n",
       "      <td>1.0</td>\n",
       "      <td>Less than 5 hours</td>\n",
       "      <td>Moderate</td>\n",
       "      <td>M.Ed</td>\n",
       "      <td>Yes</td>\n",
       "      <td>11.0</td>\n",
       "      <td>5.0</td>\n",
       "      <td>No</td>\n",
       "    </tr>\n",
       "  </tbody>\n",
       "</table>\n",
       "</div>"
      ],
      "text/plain": [
       "        id    Name  Gender   Age           City  \\\n",
       "3   140703  Nalini  Female  23.0         Rajkot   \n",
       "8   140708   Navya  Female  21.0          Surat   \n",
       "19  140719   Kiran    Male  28.0        Lucknow   \n",
       "20  140720   Rashi  Female  26.0      Ghaziabad   \n",
       "21  140721   Manan    Male  32.0  Visakhapatnam   \n",
       "\n",
       "   Working Professional or Student  Academic Pressure  CGPA  \\\n",
       "3                          Student                5.0  6.84   \n",
       "8                          Student                1.0  7.39   \n",
       "19                         Student                5.0  6.03   \n",
       "20                         Student                3.0  8.63   \n",
       "21                         Student                3.0  8.61   \n",
       "\n",
       "    Study Satisfaction     Sleep Duration Dietary Habits Degree  \\\n",
       "3                  1.0  More than 8 hours       Moderate    BSc   \n",
       "8                  3.0  Less than 5 hours        Healthy    BBA   \n",
       "19                 3.0          7-8 hours       Moderate     MA   \n",
       "20                 5.0  More than 8 hours       Moderate    BBA   \n",
       "21                 1.0  Less than 5 hours       Moderate   M.Ed   \n",
       "\n",
       "   Have you ever had suicidal thoughts ?  Work/Study Hours  Financial Stress  \\\n",
       "3                                    Yes              10.0               4.0   \n",
       "8                                     No               8.0               1.0   \n",
       "19                                    No              11.0               3.0   \n",
       "20                                   Yes              10.0               4.0   \n",
       "21                                   Yes              11.0               5.0   \n",
       "\n",
       "   Family History of Mental Illness  \n",
       "3                                No  \n",
       "8                               Yes  \n",
       "19                              Yes  \n",
       "20                              Yes  \n",
       "21                               No  "
      ]
     },
     "execution_count": 48,
     "metadata": {},
     "output_type": "execute_result"
    }
   ],
   "source": [
    "stud_df.head()"
   ]
  },
  {
   "cell_type": "code",
   "execution_count": 49,
   "id": "385d20ed-2ae4-4975-9650-af7e0117a094",
   "metadata": {},
   "outputs": [
    {
     "data": {
      "text/html": [
       "<div>\n",
       "<style scoped>\n",
       "    .dataframe tbody tr th:only-of-type {\n",
       "        vertical-align: middle;\n",
       "    }\n",
       "\n",
       "    .dataframe tbody tr th {\n",
       "        vertical-align: top;\n",
       "    }\n",
       "\n",
       "    .dataframe thead th {\n",
       "        text-align: right;\n",
       "    }\n",
       "</style>\n",
       "<table border=\"1\" class=\"dataframe\">\n",
       "  <thead>\n",
       "    <tr style=\"text-align: right;\">\n",
       "      <th></th>\n",
       "      <th>id</th>\n",
       "      <th>Name</th>\n",
       "      <th>Gender</th>\n",
       "      <th>Age</th>\n",
       "      <th>City</th>\n",
       "      <th>Working Professional or Student</th>\n",
       "      <th>Profession</th>\n",
       "      <th>Work Pressure</th>\n",
       "      <th>CGPA</th>\n",
       "      <th>Job Satisfaction</th>\n",
       "      <th>Sleep Duration</th>\n",
       "      <th>Dietary Habits</th>\n",
       "      <th>Degree</th>\n",
       "      <th>Have you ever had suicidal thoughts ?</th>\n",
       "      <th>Work/Study Hours</th>\n",
       "      <th>Financial Stress</th>\n",
       "      <th>Family History of Mental Illness</th>\n",
       "    </tr>\n",
       "  </thead>\n",
       "  <tbody>\n",
       "    <tr>\n",
       "      <th>0</th>\n",
       "      <td>140700</td>\n",
       "      <td>Shivam</td>\n",
       "      <td>Male</td>\n",
       "      <td>53.0</td>\n",
       "      <td>Visakhapatnam</td>\n",
       "      <td>Working Professional</td>\n",
       "      <td>Judge</td>\n",
       "      <td>2.0</td>\n",
       "      <td>8.6</td>\n",
       "      <td>5.0</td>\n",
       "      <td>Less than 5 hours</td>\n",
       "      <td>Moderate</td>\n",
       "      <td>LLB</td>\n",
       "      <td>No</td>\n",
       "      <td>9.0</td>\n",
       "      <td>3.0</td>\n",
       "      <td>Yes</td>\n",
       "    </tr>\n",
       "    <tr>\n",
       "      <th>1</th>\n",
       "      <td>140701</td>\n",
       "      <td>Sanya</td>\n",
       "      <td>Female</td>\n",
       "      <td>58.0</td>\n",
       "      <td>Kolkata</td>\n",
       "      <td>Working Professional</td>\n",
       "      <td>Educational Consultant</td>\n",
       "      <td>2.0</td>\n",
       "      <td>8.6</td>\n",
       "      <td>4.0</td>\n",
       "      <td>Less than 5 hours</td>\n",
       "      <td>Moderate</td>\n",
       "      <td>B.Ed</td>\n",
       "      <td>No</td>\n",
       "      <td>6.0</td>\n",
       "      <td>4.0</td>\n",
       "      <td>No</td>\n",
       "    </tr>\n",
       "    <tr>\n",
       "      <th>2</th>\n",
       "      <td>140702</td>\n",
       "      <td>Yash</td>\n",
       "      <td>Male</td>\n",
       "      <td>53.0</td>\n",
       "      <td>Jaipur</td>\n",
       "      <td>Working Professional</td>\n",
       "      <td>Teacher</td>\n",
       "      <td>4.0</td>\n",
       "      <td>8.6</td>\n",
       "      <td>1.0</td>\n",
       "      <td>7-8 hours</td>\n",
       "      <td>Moderate</td>\n",
       "      <td>B.Arch</td>\n",
       "      <td>Yes</td>\n",
       "      <td>12.0</td>\n",
       "      <td>4.0</td>\n",
       "      <td>No</td>\n",
       "    </tr>\n",
       "    <tr>\n",
       "      <th>4</th>\n",
       "      <td>140704</td>\n",
       "      <td>Shaurya</td>\n",
       "      <td>Male</td>\n",
       "      <td>47.0</td>\n",
       "      <td>Kalyan</td>\n",
       "      <td>Working Professional</td>\n",
       "      <td>Teacher</td>\n",
       "      <td>5.0</td>\n",
       "      <td>8.6</td>\n",
       "      <td>5.0</td>\n",
       "      <td>7-8 hours</td>\n",
       "      <td>Moderate</td>\n",
       "      <td>BCA</td>\n",
       "      <td>Yes</td>\n",
       "      <td>3.0</td>\n",
       "      <td>4.0</td>\n",
       "      <td>No</td>\n",
       "    </tr>\n",
       "    <tr>\n",
       "      <th>5</th>\n",
       "      <td>140705</td>\n",
       "      <td>Kartik</td>\n",
       "      <td>Male</td>\n",
       "      <td>29.0</td>\n",
       "      <td>Mumbai</td>\n",
       "      <td>Working Professional</td>\n",
       "      <td>Customer Support</td>\n",
       "      <td>2.0</td>\n",
       "      <td>8.6</td>\n",
       "      <td>3.0</td>\n",
       "      <td>More than 8 hours</td>\n",
       "      <td>Moderate</td>\n",
       "      <td>B.Com</td>\n",
       "      <td>No</td>\n",
       "      <td>3.0</td>\n",
       "      <td>2.0</td>\n",
       "      <td>Yes</td>\n",
       "    </tr>\n",
       "  </tbody>\n",
       "</table>\n",
       "</div>"
      ],
      "text/plain": [
       "       id     Name  Gender   Age           City  \\\n",
       "0  140700   Shivam    Male  53.0  Visakhapatnam   \n",
       "1  140701    Sanya  Female  58.0        Kolkata   \n",
       "2  140702     Yash    Male  53.0         Jaipur   \n",
       "4  140704  Shaurya    Male  47.0         Kalyan   \n",
       "5  140705   Kartik    Male  29.0         Mumbai   \n",
       "\n",
       "  Working Professional or Student              Profession  Work Pressure  \\\n",
       "0            Working Professional                   Judge            2.0   \n",
       "1            Working Professional  Educational Consultant            2.0   \n",
       "2            Working Professional                 Teacher            4.0   \n",
       "4            Working Professional                 Teacher            5.0   \n",
       "5            Working Professional        Customer Support            2.0   \n",
       "\n",
       "   CGPA  Job Satisfaction     Sleep Duration Dietary Habits  Degree  \\\n",
       "0   8.6               5.0  Less than 5 hours       Moderate     LLB   \n",
       "1   8.6               4.0  Less than 5 hours       Moderate    B.Ed   \n",
       "2   8.6               1.0          7-8 hours       Moderate  B.Arch   \n",
       "4   8.6               5.0          7-8 hours       Moderate     BCA   \n",
       "5   8.6               3.0  More than 8 hours       Moderate   B.Com   \n",
       "\n",
       "  Have you ever had suicidal thoughts ?  Work/Study Hours  Financial Stress  \\\n",
       "0                                    No               9.0               3.0   \n",
       "1                                    No               6.0               4.0   \n",
       "2                                   Yes              12.0               4.0   \n",
       "4                                   Yes               3.0               4.0   \n",
       "5                                    No               3.0               2.0   \n",
       "\n",
       "  Family History of Mental Illness  \n",
       "0                              Yes  \n",
       "1                               No  \n",
       "2                               No  \n",
       "4                               No  \n",
       "5                              Yes  "
      ]
     },
     "execution_count": 49,
     "metadata": {},
     "output_type": "execute_result"
    }
   ],
   "source": [
    "prof_df.head()"
   ]
  },
  {
   "cell_type": "code",
   "execution_count": 50,
   "id": "c77f1489-1bb6-4363-bad0-2bab53d187e8",
   "metadata": {},
   "outputs": [
    {
     "data": {
      "text/plain": [
       "id                                       0\n",
       "Name                                     0\n",
       "Gender                                   0\n",
       "Age                                      0\n",
       "City                                     0\n",
       "Working Professional or Student          0\n",
       "Academic Pressure                        0\n",
       "CGPA                                     0\n",
       "Study Satisfaction                       0\n",
       "Sleep Duration                           0\n",
       "Dietary Habits                           0\n",
       "Degree                                   0\n",
       "Have you ever had suicidal thoughts ?    0\n",
       "Work/Study Hours                         0\n",
       "Financial Stress                         0\n",
       "Family History of Mental Illness         0\n",
       "dtype: int64"
      ]
     },
     "execution_count": 50,
     "metadata": {},
     "output_type": "execute_result"
    }
   ],
   "source": [
    "stud_df.isnull().sum()"
   ]
  },
  {
   "cell_type": "code",
   "execution_count": 51,
   "id": "9525edb8-e5b5-47bd-b737-e60dc6c4b302",
   "metadata": {},
   "outputs": [
    {
     "data": {
      "text/plain": [
       "id                                       0\n",
       "Name                                     0\n",
       "Gender                                   0\n",
       "Age                                      0\n",
       "City                                     0\n",
       "Working Professional or Student          0\n",
       "Profession                               0\n",
       "Work Pressure                            0\n",
       "CGPA                                     0\n",
       "Job Satisfaction                         0\n",
       "Sleep Duration                           0\n",
       "Dietary Habits                           0\n",
       "Degree                                   0\n",
       "Have you ever had suicidal thoughts ?    0\n",
       "Work/Study Hours                         0\n",
       "Financial Stress                         0\n",
       "Family History of Mental Illness         0\n",
       "dtype: int64"
      ]
     },
     "execution_count": 51,
     "metadata": {},
     "output_type": "execute_result"
    }
   ],
   "source": [
    "prof_df.isnull().sum()"
   ]
  },
  {
   "cell_type": "markdown",
   "id": "b024524c-1d9c-4bed-8a5f-c4496ee20542",
   "metadata": {},
   "source": [
    "# Academic Pressure by Degree"
   ]
  },
  {
   "cell_type": "code",
   "execution_count": 52,
   "id": "899ac54c-6932-41d9-a442-6fae5498773b",
   "metadata": {},
   "outputs": [
    {
     "data": {
      "image/png": "[encoded data removed]",
      "text/plain": [
       "<Figure size 1800x800 with 1 Axes>"
      ]
     },
     "metadata": {},
     "output_type": "display_data"
    }
   ],
   "source": [
    "plt.figure(figsize=(18,8))\n",
    "plt.bar(x=stud_df['Degree'],height=stud_df['Academic Pressure'], color='#2e7eb3')\n",
    "plt.xticks(rotation=90)\n",
    "plt.title('Academic Pressure by Degree', fontsize= 18, fontweight='bold')\n",
    "plt.xlabel('Degree', fontsize=14, fontweight='bold')\n",
    "plt.show()"
   ]
  },
  {
   "cell_type": "markdown",
   "id": "7619a411-605e-4754-bb56-c34583ffca26",
   "metadata": {},
   "source": [
    "# Suicidal Thoughts Among Students"
   ]
  },
  {
   "cell_type": "code",
   "execution_count": 53,
   "id": "c974588a-4308-43c6-87ea-7f1aeb6fcb5e",
   "metadata": {},
   "outputs": [
    {
     "data": {
      "image/png": "[encoded data removed]",
      "text/plain": [
       "<Figure size 900x600 with 1 Axes>"
      ]
     },
     "metadata": {},
     "output_type": "display_data"
    }
   ],
   "source": [
    "sns.set_palette('colorblind')\n",
    "plt.figure(figsize=(9,6))\n",
    "stud_df['Have you ever had suicidal thoughts ?'].value_counts().plot.pie(autopct='%1.1f%%', textprops= {'fontweight':'bold', 'fontsize':'14'})\n",
    "plt.title('Suicidal Thoughts among Students', fontsize=18, fontweight='bold')\n",
    "plt.ylabel('')\n",
    "plt.legend()\n",
    "plt.show()"
   ]
  },
  {
   "cell_type": "markdown",
   "id": "928b22e2-5a3b-49f4-9eab-d18b515a803b",
   "metadata": {},
   "source": [
    "# Average CGPA by Age"
   ]
  },
  {
   "cell_type": "code",
   "execution_count": 54,
   "id": "f66cd09d-fee6-47d8-9561-2c0d271dfe0f",
   "metadata": {},
   "outputs": [
    {
     "data": {
      "image/png": "[encoded data removed]",
      "text/plain": [
       "<Figure size 1600x800 with 1 Axes>"
      ]
     },
     "metadata": {},
     "output_type": "display_data"
    }
   ],
   "source": [
    "sns.set_style('white')\n",
    "plt.figure(figsize=(16,8))\n",
    "age_grouped= stud_df.groupby('Age')['CGPA'].mean().reset_index()\n",
    "plt.plot(age_grouped['Age'], age_grouped['CGPA'], color= '#2e7eb3', marker= 'o')\n",
    "plt.title('Average CGPA by Age', fontsize=18, fontweight='bold')\n",
    "plt.xlabel('Age', fontsize=14, fontweight='bold')\n",
    "plt.ylabel('CGPA', fontsize=14, fontweight='bold')\n",
    "plt.show()"
   ]
  },
  {
   "cell_type": "code",
   "execution_count": 55,
   "id": "ee8deead-c8c3-4843-ba43-e97cae63ec39",
   "metadata": {},
   "outputs": [
    {
     "data": {
      "text/html": [
       "<div>\n",
       "<style scoped>\n",
       "    .dataframe tbody tr th:only-of-type {\n",
       "        vertical-align: middle;\n",
       "    }\n",
       "\n",
       "    .dataframe tbody tr th {\n",
       "        vertical-align: top;\n",
       "    }\n",
       "\n",
       "    .dataframe thead th {\n",
       "        text-align: right;\n",
       "    }\n",
       "</style>\n",
       "<table border=\"1\" class=\"dataframe\">\n",
       "  <thead>\n",
       "    <tr style=\"text-align: right;\">\n",
       "      <th></th>\n",
       "      <th>Age</th>\n",
       "      <th>CGPA</th>\n",
       "    </tr>\n",
       "  </thead>\n",
       "  <tbody>\n",
       "    <tr>\n",
       "      <th>27</th>\n",
       "      <td>50.0</td>\n",
       "      <td>9.590000</td>\n",
       "    </tr>\n",
       "    <tr>\n",
       "      <th>30</th>\n",
       "      <td>58.0</td>\n",
       "      <td>9.560000</td>\n",
       "    </tr>\n",
       "    <tr>\n",
       "      <th>22</th>\n",
       "      <td>40.0</td>\n",
       "      <td>8.620000</td>\n",
       "    </tr>\n",
       "    <tr>\n",
       "      <th>25</th>\n",
       "      <td>45.0</td>\n",
       "      <td>8.355000</td>\n",
       "    </tr>\n",
       "    <tr>\n",
       "      <th>20</th>\n",
       "      <td>37.0</td>\n",
       "      <td>8.171289</td>\n",
       "    </tr>\n",
       "    <tr>\n",
       "      <th>26</th>\n",
       "      <td>49.0</td>\n",
       "      <td>7.895000</td>\n",
       "    </tr>\n",
       "    <tr>\n",
       "      <th>19</th>\n",
       "      <td>36.0</td>\n",
       "      <td>7.880000</td>\n",
       "    </tr>\n",
       "    <tr>\n",
       "      <th>6</th>\n",
       "      <td>24.0</td>\n",
       "      <td>7.782310</td>\n",
       "    </tr>\n",
       "    <tr>\n",
       "      <th>11</th>\n",
       "      <td>29.0</td>\n",
       "      <td>7.751104</td>\n",
       "    </tr>\n",
       "    <tr>\n",
       "      <th>17</th>\n",
       "      <td>34.0</td>\n",
       "      <td>7.737773</td>\n",
       "    </tr>\n",
       "  </tbody>\n",
       "</table>\n",
       "</div>"
      ],
      "text/plain": [
       "     Age      CGPA\n",
       "27  50.0  9.590000\n",
       "30  58.0  9.560000\n",
       "22  40.0  8.620000\n",
       "25  45.0  8.355000\n",
       "20  37.0  8.171289\n",
       "26  49.0  7.895000\n",
       "19  36.0  7.880000\n",
       "6   24.0  7.782310\n",
       "11  29.0  7.751104\n",
       "17  34.0  7.737773"
      ]
     },
     "execution_count": 55,
     "metadata": {},
     "output_type": "execute_result"
    }
   ],
   "source": [
    "age_grouped.sort_values(by='CGPA', ascending=False).head(10)"
   ]
  },
  {
   "cell_type": "markdown",
   "id": "8216da28-a9ca-47e7-b916-6e8c7654ebf4",
   "metadata": {},
   "source": [
    "# Academic Pressure Distribution"
   ]
  },
  {
   "cell_type": "code",
   "execution_count": 56,
   "id": "197387ab-6a2a-4c37-b27c-4132374767e0",
   "metadata": {},
   "outputs": [
    {
     "data": {
      "image/png": "[encoded data removed]",
      "text/plain": [
       "<Figure size 640x480 with 1 Axes>"
      ]
     },
     "metadata": {},
     "output_type": "display_data"
    }
   ],
   "source": [
    "plt.hist(stud_df['Academic Pressure'], bins=8, color= '#2e7eb3')\n",
    "plt.title('Academic Pressure Distribution', fontsize=18, fontweight= 'bold')\n",
    "plt.show()"
   ]
  },
  {
   "cell_type": "markdown",
   "id": "447e6451-b6fd-4028-b7bb-5a3906f6b57f",
   "metadata": {},
   "source": [
    "# Work Pressure by Top Profession"
   ]
  },
  {
   "cell_type": "code",
   "execution_count": 57,
   "id": "231b2a69-d922-4c57-b5f0-1f037bebcc00",
   "metadata": {
    "scrolled": true
   },
   "outputs": [
    {
     "data": {
      "image/png": "[encoded data removed]",
      "text/plain": [
       "<Figure size 640x480 with 1 Axes>"
      ]
     },
     "metadata": {},
     "output_type": "display_data"
    }
   ],
   "source": [
    "top_prof= prof_df['Profession'].value_counts().head(10).index\n",
    "data=prof_df[prof_df['Profession'].isin(top_prof)]\n",
    "grouped = data.groupby('Profession')['Work Pressure'].mean().reset_index()\n",
    "plt.bar(x=grouped['Profession'],height=grouped['Work Pressure'], color='#2e7eb3')\n",
    "plt.title('Work Pressure by Top Professions', fontsize=18, fontweight='bold')\n",
    "plt.xlabel('Profession', fontsize=14, fontweight='bold')\n",
    "plt.ylabel('Work Pressure', fontsize=14, fontweight='bold')\n",
    "plt.xticks(rotation=90)\n",
    "plt.show()"
   ]
  },
  {
   "cell_type": "markdown",
   "id": "66a9fc0f-8de3-415c-95fc-7a9aea6ec40d",
   "metadata": {},
   "source": [
    "# Sorted order of professionals having high work pressure"
   ]
  },
  {
   "cell_type": "code",
   "execution_count": 58,
   "id": "c1fffda4-d1c9-4408-a6a5-fcfc893c3c87",
   "metadata": {},
   "outputs": [
    {
     "data": {
      "text/html": [
       "<div>\n",
       "<style scoped>\n",
       "    .dataframe tbody tr th:only-of-type {\n",
       "        vertical-align: middle;\n",
       "    }\n",
       "\n",
       "    .dataframe tbody tr th {\n",
       "        vertical-align: top;\n",
       "    }\n",
       "\n",
       "    .dataframe thead th {\n",
       "        text-align: right;\n",
       "    }\n",
       "</style>\n",
       "<table border=\"1\" class=\"dataframe\">\n",
       "  <thead>\n",
       "    <tr style=\"text-align: right;\">\n",
       "      <th></th>\n",
       "      <th>Profession</th>\n",
       "      <th>Work Pressure</th>\n",
       "    </tr>\n",
       "  </thead>\n",
       "  <tbody>\n",
       "    <tr>\n",
       "      <th>7</th>\n",
       "      <td>HR Manager</td>\n",
       "      <td>3.110812</td>\n",
       "    </tr>\n",
       "    <tr>\n",
       "      <th>2</th>\n",
       "      <td>Chemist</td>\n",
       "      <td>3.087996</td>\n",
       "    </tr>\n",
       "    <tr>\n",
       "      <th>8</th>\n",
       "      <td>Pharmacist</td>\n",
       "      <td>3.059887</td>\n",
       "    </tr>\n",
       "    <tr>\n",
       "      <th>5</th>\n",
       "      <td>Doctor</td>\n",
       "      <td>3.021393</td>\n",
       "    </tr>\n",
       "    <tr>\n",
       "      <th>0</th>\n",
       "      <td>Architect</td>\n",
       "      <td>3.000671</td>\n",
       "    </tr>\n",
       "    <tr>\n",
       "      <th>3</th>\n",
       "      <td>Consultant</td>\n",
       "      <td>2.996918</td>\n",
       "    </tr>\n",
       "    <tr>\n",
       "      <th>6</th>\n",
       "      <td>Entrepreneur</td>\n",
       "      <td>2.984488</td>\n",
       "    </tr>\n",
       "    <tr>\n",
       "      <th>9</th>\n",
       "      <td>Teacher</td>\n",
       "      <td>2.946764</td>\n",
       "    </tr>\n",
       "    <tr>\n",
       "      <th>1</th>\n",
       "      <td>Business Analyst</td>\n",
       "      <td>2.901144</td>\n",
       "    </tr>\n",
       "    <tr>\n",
       "      <th>4</th>\n",
       "      <td>Content Writer</td>\n",
       "      <td>2.888139</td>\n",
       "    </tr>\n",
       "  </tbody>\n",
       "</table>\n",
       "</div>"
      ],
      "text/plain": [
       "         Profession  Work Pressure\n",
       "7        HR Manager       3.110812\n",
       "2           Chemist       3.087996\n",
       "8        Pharmacist       3.059887\n",
       "5            Doctor       3.021393\n",
       "0         Architect       3.000671\n",
       "3        Consultant       2.996918\n",
       "6      Entrepreneur       2.984488\n",
       "9           Teacher       2.946764\n",
       "1  Business Analyst       2.901144\n",
       "4    Content Writer       2.888139"
      ]
     },
     "execution_count": 58,
     "metadata": {},
     "output_type": "execute_result"
    }
   ],
   "source": [
    "grouped.sort_values(by='Work Pressure', ascending=False)"
   ]
  },
  {
   "cell_type": "markdown",
   "id": "3b65ef21-cf91-4203-b356-21df53150445",
   "metadata": {},
   "source": [
    "# Average Work Pressure by Age"
   ]
  },
  {
   "cell_type": "code",
   "execution_count": 59,
   "id": "0e91524d-409a-45a8-ad9e-1f3c1f40a666",
   "metadata": {},
   "outputs": [
    {
     "data": {
      "image/png": "[encoded data removed]",
      "text/plain": [
       "<Figure size 1600x800 with 1 Axes>"
      ]
     },
     "metadata": {},
     "output_type": "display_data"
    }
   ],
   "source": [
    "sns.set_style('white')\n",
    "plt.figure(figsize=(16,8))\n",
    "age_work= prof_df.groupby('Age')['Work Pressure'].mean().reset_index()\n",
    "plt.plot(age_work['Age'], age_work['Work Pressure'], color= '#2e7eb3', marker= 'o')\n",
    "plt.title('Average Work Pressure by Age', fontsize=18, fontweight='bold')\n",
    "plt.xlabel('Age', fontsize=14, fontweight='bold')\n",
    "plt.ylabel('Work Pressure', fontsize=14, fontweight='bold')\n",
    "plt.show()"
   ]
  },
  {
   "cell_type": "code",
   "execution_count": 60,
   "id": "e1c6ae41-2b06-41fa-b13a-4216c1123462",
   "metadata": {},
   "outputs": [
    {
     "data": {
      "text/html": [
       "<div>\n",
       "<style scoped>\n",
       "    .dataframe tbody tr th:only-of-type {\n",
       "        vertical-align: middle;\n",
       "    }\n",
       "\n",
       "    .dataframe tbody tr th {\n",
       "        vertical-align: top;\n",
       "    }\n",
       "\n",
       "    .dataframe thead th {\n",
       "        text-align: right;\n",
       "    }\n",
       "</style>\n",
       "<table border=\"1\" class=\"dataframe\">\n",
       "  <thead>\n",
       "    <tr style=\"text-align: right;\">\n",
       "      <th></th>\n",
       "      <th>Age</th>\n",
       "      <th>Work Pressure</th>\n",
       "    </tr>\n",
       "  </thead>\n",
       "  <tbody>\n",
       "    <tr>\n",
       "      <th>1</th>\n",
       "      <td>19.0</td>\n",
       "      <td>3.900000</td>\n",
       "    </tr>\n",
       "    <tr>\n",
       "      <th>3</th>\n",
       "      <td>21.0</td>\n",
       "      <td>3.666667</td>\n",
       "    </tr>\n",
       "    <tr>\n",
       "      <th>10</th>\n",
       "      <td>28.0</td>\n",
       "      <td>3.406329</td>\n",
       "    </tr>\n",
       "    <tr>\n",
       "      <th>7</th>\n",
       "      <td>25.0</td>\n",
       "      <td>3.364247</td>\n",
       "    </tr>\n",
       "    <tr>\n",
       "      <th>4</th>\n",
       "      <td>22.0</td>\n",
       "      <td>3.355628</td>\n",
       "    </tr>\n",
       "    <tr>\n",
       "      <th>9</th>\n",
       "      <td>27.0</td>\n",
       "      <td>3.316456</td>\n",
       "    </tr>\n",
       "    <tr>\n",
       "      <th>5</th>\n",
       "      <td>23.0</td>\n",
       "      <td>3.314320</td>\n",
       "    </tr>\n",
       "    <tr>\n",
       "      <th>0</th>\n",
       "      <td>18.0</td>\n",
       "      <td>3.230769</td>\n",
       "    </tr>\n",
       "    <tr>\n",
       "      <th>12</th>\n",
       "      <td>30.0</td>\n",
       "      <td>3.217687</td>\n",
       "    </tr>\n",
       "    <tr>\n",
       "      <th>13</th>\n",
       "      <td>31.0</td>\n",
       "      <td>3.198630</td>\n",
       "    </tr>\n",
       "  </tbody>\n",
       "</table>\n",
       "</div>"
      ],
      "text/plain": [
       "     Age  Work Pressure\n",
       "1   19.0       3.900000\n",
       "3   21.0       3.666667\n",
       "10  28.0       3.406329\n",
       "7   25.0       3.364247\n",
       "4   22.0       3.355628\n",
       "9   27.0       3.316456\n",
       "5   23.0       3.314320\n",
       "0   18.0       3.230769\n",
       "12  30.0       3.217687\n",
       "13  31.0       3.198630"
      ]
     },
     "execution_count": 60,
     "metadata": {},
     "output_type": "execute_result"
    }
   ],
   "source": [
    "age_work.sort_values(by= 'Work Pressure', ascending= False).head(10)"
   ]
  },
  {
   "cell_type": "markdown",
   "id": "f279637a-239f-462e-b5a5-e403f44b68c5",
   "metadata": {},
   "source": [
    "# Top Profession by Financial Stress"
   ]
  },
  {
   "cell_type": "code",
   "execution_count": 61,
   "id": "a825deab-c262-452f-9028-4067a008a28f",
   "metadata": {},
   "outputs": [
    {
     "data": {
      "image/png": "[encoded data removed]",
      "text/plain": [
       "<Figure size 640x480 with 1 Axes>"
      ]
     },
     "metadata": {},
     "output_type": "display_data"
    }
   ],
   "source": [
    "top_prof5= prof_df['Profession'].value_counts().head(5).index\n",
    "data5= prof_df[prof_df['Profession'].isin(top_prof5)]\n",
    "grouped_avg= data5.groupby('Profession')['Financial Stress'].mean().reset_index()\n",
    "grouped_avg = grouped_avg.sort_values(by='Financial Stress', ascending=False)\n",
    "sns.barplot(data= grouped_avg, x='Profession', y='Financial Stress')\n",
    "plt.xlabel('Profession', fontsize=14, fontweight='bold')\n",
    "plt.ylabel('Financial Stress', fontsize=14, fontweight='bold')\n",
    "plt.title('Top Profession by Financial Stress', fontsize=14, fontweight='bold')\n",
    "plt.show()"
   ]
  },
  {
   "cell_type": "code",
   "execution_count": 62,
   "id": "f1497dec-c475-41c0-9204-83724c7d00d1",
   "metadata": {},
   "outputs": [
    {
     "data": {
      "text/html": [
       "<div>\n",
       "<style scoped>\n",
       "    .dataframe tbody tr th:only-of-type {\n",
       "        vertical-align: middle;\n",
       "    }\n",
       "\n",
       "    .dataframe tbody tr th {\n",
       "        vertical-align: top;\n",
       "    }\n",
       "\n",
       "    .dataframe thead th {\n",
       "        text-align: right;\n",
       "    }\n",
       "</style>\n",
       "<table border=\"1\" class=\"dataframe\">\n",
       "  <thead>\n",
       "    <tr style=\"text-align: right;\">\n",
       "      <th></th>\n",
       "      <th>Profession</th>\n",
       "      <th>Financial Stress</th>\n",
       "    </tr>\n",
       "  </thead>\n",
       "  <tbody>\n",
       "    <tr>\n",
       "      <th>1</th>\n",
       "      <td>Consultant</td>\n",
       "      <td>3.020890</td>\n",
       "    </tr>\n",
       "    <tr>\n",
       "      <th>4</th>\n",
       "      <td>Teacher</td>\n",
       "      <td>2.945788</td>\n",
       "    </tr>\n",
       "    <tr>\n",
       "      <th>0</th>\n",
       "      <td>Architect</td>\n",
       "      <td>2.922535</td>\n",
       "    </tr>\n",
       "    <tr>\n",
       "      <th>3</th>\n",
       "      <td>Pharmacist</td>\n",
       "      <td>2.888136</td>\n",
       "    </tr>\n",
       "    <tr>\n",
       "      <th>2</th>\n",
       "      <td>Content Writer</td>\n",
       "      <td>2.826615</td>\n",
       "    </tr>\n",
       "  </tbody>\n",
       "</table>\n",
       "</div>"
      ],
      "text/plain": [
       "       Profession  Financial Stress\n",
       "1      Consultant          3.020890\n",
       "4         Teacher          2.945788\n",
       "0       Architect          2.922535\n",
       "3      Pharmacist          2.888136\n",
       "2  Content Writer          2.826615"
      ]
     },
     "execution_count": 62,
     "metadata": {},
     "output_type": "execute_result"
    }
   ],
   "source": [
    "grouped_avg"
   ]
  },
  {
   "cell_type": "markdown",
   "id": "faad4fdc-ba0a-4b3b-932d-1a970f99fb29",
   "metadata": {},
   "source": [
    "# Common Professions with high financial pressure and work pressure"
   ]
  },
  {
   "cell_type": "code",
   "execution_count": 63,
   "id": "edce06d2-9fff-458b-a2cc-b9fc957a04f4",
   "metadata": {},
   "outputs": [
    {
     "name": "stdout",
     "output_type": "stream",
     "text": [
      "       Profession  Financial Stress\n",
      "1      Consultant          3.020890\n",
      "4         Teacher          2.945788\n",
      "0       Architect          2.922535\n",
      "3      Pharmacist          2.888136\n",
      "2  Content Writer          2.826615\n"
     ]
    }
   ],
   "source": [
    "common_values = grouped_avg['Profession'].isin(grouped['Profession'])\n",
    "df_common = grouped_avg[common_values]\n",
    "print(df_common)"
   ]
  },
  {
   "cell_type": "markdown",
   "id": "60d24d70-31ca-4e1e-8e15-ac79dfc9462f",
   "metadata": {},
   "source": [
    "# Pie Chart to show whether professions having high work pressure and high financial stress get high suicial thoughts or not"
   ]
  },
  {
   "cell_type": "code",
   "execution_count": 64,
   "id": "c0ee7882-deb5-4eb0-b327-726fc26d18a7",
   "metadata": {},
   "outputs": [
    {
     "data": {
      "image/png": "[encoded data removed]",
      "text/plain": [
       "<Figure size 900x600 with 1 Axes>"
      ]
     },
     "metadata": {},
     "output_type": "display_data"
    }
   ],
   "source": [
    "df2= prof_df['Profession'].isin(df_common['Profession'])\n",
    "df2_common= prof_df[df2]\n",
    "sns.set_palette('colorblind')\n",
    "plt.figure(figsize=(9,6))\n",
    "df2_common['Have you ever had suicidal thoughts ?'].value_counts().plot.pie(autopct='%1.1f%%', textprops= {'fontsize':'14', 'fontweight':'bold'})\n",
    "plt.title('Suicidal Thoughts Among Professionals Having \\n High Work Pressure and High Financial Stress', fontsize= 18, fontweight='bold')\n",
    "plt.ylabel('')\n",
    "plt.legend()\n",
    "plt.show()"
   ]
  },
  {
   "cell_type": "markdown",
   "id": "ccf660cd-259f-412f-8463-38deccf75713",
   "metadata": {},
   "source": [
    "# Suicidal Thoughts Among Professionals"
   ]
  },
  {
   "cell_type": "code",
   "execution_count": 65,
   "id": "9c39e77f-037d-4f59-b44e-c3ec1480a8fb",
   "metadata": {},
   "outputs": [
    {
     "data": {
      "image/png": "[encoded data removed]",
      "text/plain": [
       "<Figure size 900x600 with 1 Axes>"
      ]
     },
     "metadata": {},
     "output_type": "display_data"
    }
   ],
   "source": [
    "sns.set_palette('colorblind')\n",
    "plt.figure(figsize=(9,6))\n",
    "prof_df['Have you ever had suicidal thoughts ?'].value_counts().plot.pie(autopct='%1.1f%%', textprops= {'fontsize':'14', 'fontweight':'bold'})\n",
    "plt.title('Suicidal Thoughts Among Professionals', fontsize= 18, fontweight='bold')\n",
    "plt.ylabel('')\n",
    "plt.legend()\n",
    "plt.show()"
   ]
  },
  {
   "cell_type": "code",
   "execution_count": 66,
   "id": "d84027ae-3801-4847-ba4f-3c162ec1b306",
   "metadata": {},
   "outputs": [],
   "source": [
    "stud_df.to_csv('students.csv', index=False)"
   ]
  },
  {
   "cell_type": "code",
   "execution_count": 67,
   "id": "9af01cc1-243f-4162-ae0b-6266d17da9bb",
   "metadata": {},
   "outputs": [],
   "source": [
    "prof_df.to_csv('professional.csv', index=False)"
   ]
  },
  {
   "cell_type": "markdown",
   "id": "937dc20c-039f-4d8a-b50d-5b2bc35c5ce8",
   "metadata": {},
   "source": [
    "# Observations\n",
    "### 1) Students in degrees like BSc, BBA, MA, M.Ed, BHM etc reported significantly higher academic pressure.\n",
    "### 2) CGPA tends to be higher in the 45-60 age range and shows a slight drop for older students.\n",
    "### 3) Suicidal thoughts amongs students is more than in professionals.\n",
    "### 4) Work Pressure is more amongs professionals like HR Manager, Chemist, Architect ect.\n",
    "### 5) Work Pressure for professionals is more among the age group 19-30.\n",
    "### 6) Financial Stress is more among professions Consultant, Teacher, Architect, Pharmacist, Content Writer etc."
   ]
  },
  {
   "cell_type": "markdown",
   "id": "4cace9b1-1a70-420d-b60b-c63b4b196154",
   "metadata": {},
   "source": [
    "# Conclusions\n",
    "### 1) Academic expectations rise with degree complexity, suggesting targeted academic counseling may be beneficial for higher-degree students.\n",
    "### 2) Even students above the age 30 tend to have higher CGPA.\n",
    "### 3) Suicidal thoughts are significantly higher among students compared to professionals, highlighting the urgent need for stronger mental health support systems, counseling, and stress-management programs within academic institutions.\n",
    "### 4) Work-life balance programs and mental wellness initiatives should be prioritized in high-pressure professions.\n",
    "### 5) Career growth and responsibilities add to pressure in early career stages; mid-career workers might develop better coping strategies.\n",
    "### 6) Professions like Consultant, Teacher, Architect, Pharmacist and Conent Writer have high work pressure as well as high financial pressure.\n",
    "### 7) But it's seen that more than half of professions with high work pressure and high financial pressure don't get suicidal thoughts."
   ]
  },
  {
   "cell_type": "markdown",
   "id": "ea10983f-cbe6-492a-83cf-e5a303004fdf",
   "metadata": {},
   "source": [
    "# Amisha Jain\n",
    "### B.Tech Computer Science and Engineering\n",
    "### PES University, Bengaluru\n",
    "### Email: jainamisha2004@gmail.com"
   ]
  }
 ],
 "metadata": {
  "kernelspec": {
   "display_name": "Python 3 (ipykernel)",
   "language": "python",
   "name": "python3"
  },
  "language_info": {
   "codemirror_mode": {
    "name": "ipython",
    "version": 3
   },
   "file_extension": ".py",
   "mimetype": "text/x-python",
   "name": "python",
   "nbconvert_exporter": "python",
   "pygments_lexer": "ipython3",
   "version": "3.12.7"
  }
 },
 "nbformat": 4,
 "nbformat_minor": 5
}
